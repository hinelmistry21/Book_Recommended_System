{
 "cells": [
  {
   "cell_type": "code",
   "execution_count": 1,
   "metadata": {
    "pycharm": {
     "is_executing": false
    }
   },
   "outputs": [],
   "source": [
    "import pandas as pd\n",
    "import numpy as np"
   ]
  },
  {
   "cell_type": "code",
   "execution_count": 2,
   "metadata": {
    "pycharm": {
     "is_executing": false
    }
   },
   "outputs": [],
   "source": [
    "credits = pd.read_csv(\"tmdb_5000_credits.csv\")\n",
    "movies_df = pd.read_csv(\"tmdb_5000_movies.csv\")"
   ]
  },
  {
   "cell_type": "code",
   "execution_count": 3,
   "metadata": {
    "pycharm": {
     "is_executing": false
    }
   },
   "outputs": [
    {
     "data": {
      "text/plain": "   movie_id                                     title  \\\n0     19995                                    Avatar   \n1       285  Pirates of the Caribbean: At World's End   \n2    206647                                   Spectre   \n3     49026                     The Dark Knight Rises   \n4     49529                               John Carter   \n\n                                                cast  \\\n0  [{\"cast_id\": 242, \"character\": \"Jake Sully\", \"...   \n1  [{\"cast_id\": 4, \"character\": \"Captain Jack Spa...   \n2  [{\"cast_id\": 1, \"character\": \"James Bond\", \"cr...   \n3  [{\"cast_id\": 2, \"character\": \"Bruce Wayne / Ba...   \n4  [{\"cast_id\": 5, \"character\": \"John Carter\", \"c...   \n\n                                                crew  \n0  [{\"credit_id\": \"52fe48009251416c750aca23\", \"de...  \n1  [{\"credit_id\": \"52fe4232c3a36847f800b579\", \"de...  \n2  [{\"credit_id\": \"54805967c3a36829b5002c41\", \"de...  \n3  [{\"credit_id\": \"52fe4781c3a36847f81398c3\", \"de...  \n4  [{\"credit_id\": \"52fe479ac3a36847f813eaa3\", \"de...  ",
      "text/html": "<div>\n<style scoped>\n    .dataframe tbody tr th:only-of-type {\n        vertical-align: middle;\n    }\n\n    .dataframe tbody tr th {\n        vertical-align: top;\n    }\n\n    .dataframe thead th {\n        text-align: right;\n    }\n</style>\n<table border=\"1\" class=\"dataframe\">\n  <thead>\n    <tr style=\"text-align: right;\">\n      <th></th>\n      <th>movie_id</th>\n      <th>title</th>\n      <th>cast</th>\n      <th>crew</th>\n    </tr>\n  </thead>\n  <tbody>\n    <tr>\n      <th>0</th>\n      <td>19995</td>\n      <td>Avatar</td>\n      <td>[{\"cast_id\": 242, \"character\": \"Jake Sully\", \"...</td>\n      <td>[{\"credit_id\": \"52fe48009251416c750aca23\", \"de...</td>\n    </tr>\n    <tr>\n      <th>1</th>\n      <td>285</td>\n      <td>Pirates of the Caribbean: At World's End</td>\n      <td>[{\"cast_id\": 4, \"character\": \"Captain Jack Spa...</td>\n      <td>[{\"credit_id\": \"52fe4232c3a36847f800b579\", \"de...</td>\n    </tr>\n    <tr>\n      <th>2</th>\n      <td>206647</td>\n      <td>Spectre</td>\n      <td>[{\"cast_id\": 1, \"character\": \"James Bond\", \"cr...</td>\n      <td>[{\"credit_id\": \"54805967c3a36829b5002c41\", \"de...</td>\n    </tr>\n    <tr>\n      <th>3</th>\n      <td>49026</td>\n      <td>The Dark Knight Rises</td>\n      <td>[{\"cast_id\": 2, \"character\": \"Bruce Wayne / Ba...</td>\n      <td>[{\"credit_id\": \"52fe4781c3a36847f81398c3\", \"de...</td>\n    </tr>\n    <tr>\n      <th>4</th>\n      <td>49529</td>\n      <td>John Carter</td>\n      <td>[{\"cast_id\": 5, \"character\": \"John Carter\", \"c...</td>\n      <td>[{\"credit_id\": \"52fe479ac3a36847f813eaa3\", \"de...</td>\n    </tr>\n  </tbody>\n</table>\n</div>"
     },
     "metadata": {},
     "output_type": "execute_result",
     "execution_count": 3
    }
   ],
   "source": [
    "credits.head()"
   ]
  },
  {
   "cell_type": "code",
   "execution_count": 4,
   "metadata": {
    "pycharm": {
     "is_executing": false
    }
   },
   "outputs": [
    {
     "data": {
      "text/plain": "      budget                                             genres  \\\n0  237000000  [{\"id\": 28, \"name\": \"Action\"}, {\"id\": 12, \"nam...   \n1  300000000  [{\"id\": 12, \"name\": \"Adventure\"}, {\"id\": 14, \"...   \n2  245000000  [{\"id\": 28, \"name\": \"Action\"}, {\"id\": 12, \"nam...   \n3  250000000  [{\"id\": 28, \"name\": \"Action\"}, {\"id\": 80, \"nam...   \n4  260000000  [{\"id\": 28, \"name\": \"Action\"}, {\"id\": 12, \"nam...   \n\n                                       homepage      id  \\\n0                   http://www.avatarmovie.com/   19995   \n1  http://disney.go.com/disneypictures/pirates/     285   \n2   http://www.sonypictures.com/movies/spectre/  206647   \n3            http://www.thedarkknightrises.com/   49026   \n4          http://movies.disney.com/john-carter   49529   \n\n                                            keywords original_language  \\\n0  [{\"id\": 1463, \"name\": \"culture clash\"}, {\"id\":...                en   \n1  [{\"id\": 270, \"name\": \"ocean\"}, {\"id\": 726, \"na...                en   \n2  [{\"id\": 470, \"name\": \"spy\"}, {\"id\": 818, \"name...                en   \n3  [{\"id\": 849, \"name\": \"dc comics\"}, {\"id\": 853,...                en   \n4  [{\"id\": 818, \"name\": \"based on novel\"}, {\"id\":...                en   \n\n                             original_title  \\\n0                                    Avatar   \n1  Pirates of the Caribbean: At World's End   \n2                                   Spectre   \n3                     The Dark Knight Rises   \n4                               John Carter   \n\n                                            overview  popularity  \\\n0  In the 22nd century, a paraplegic Marine is di...  150.437577   \n1  Captain Barbossa, long believed to be dead, ha...  139.082615   \n2  A cryptic message from Bond’s past sends him o...  107.376788   \n3  Following the death of District Attorney Harve...  112.312950   \n4  John Carter is a war-weary, former military ca...   43.926995   \n\n                                production_companies  \\\n0  [{\"name\": \"Ingenious Film Partners\", \"id\": 289...   \n1  [{\"name\": \"Walt Disney Pictures\", \"id\": 2}, {\"...   \n2  [{\"name\": \"Columbia Pictures\", \"id\": 5}, {\"nam...   \n3  [{\"name\": \"Legendary Pictures\", \"id\": 923}, {\"...   \n4        [{\"name\": \"Walt Disney Pictures\", \"id\": 2}]   \n\n                                production_countries release_date     revenue  \\\n0  [{\"iso_3166_1\": \"US\", \"name\": \"United States o...   2009-12-10  2787965087   \n1  [{\"iso_3166_1\": \"US\", \"name\": \"United States o...   2007-05-19   961000000   \n2  [{\"iso_3166_1\": \"GB\", \"name\": \"United Kingdom\"...   2015-10-26   880674609   \n3  [{\"iso_3166_1\": \"US\", \"name\": \"United States o...   2012-07-16  1084939099   \n4  [{\"iso_3166_1\": \"US\", \"name\": \"United States o...   2012-03-07   284139100   \n\n   runtime                                   spoken_languages    status  \\\n0    162.0  [{\"iso_639_1\": \"en\", \"name\": \"English\"}, {\"iso...  Released   \n1    169.0           [{\"iso_639_1\": \"en\", \"name\": \"English\"}]  Released   \n2    148.0  [{\"iso_639_1\": \"fr\", \"name\": \"Fran\\u00e7ais\"},...  Released   \n3    165.0           [{\"iso_639_1\": \"en\", \"name\": \"English\"}]  Released   \n4    132.0           [{\"iso_639_1\": \"en\", \"name\": \"English\"}]  Released   \n\n                                          tagline  \\\n0                     Enter the World of Pandora.   \n1  At the end of the world, the adventure begins.   \n2                           A Plan No One Escapes   \n3                                 The Legend Ends   \n4            Lost in our world, found in another.   \n\n                                      title  vote_average  vote_count  \n0                                    Avatar           7.2       11800  \n1  Pirates of the Caribbean: At World's End           6.9        4500  \n2                                   Spectre           6.3        4466  \n3                     The Dark Knight Rises           7.6        9106  \n4                               John Carter           6.1        2124  ",
      "text/html": "<div>\n<style scoped>\n    .dataframe tbody tr th:only-of-type {\n        vertical-align: middle;\n    }\n\n    .dataframe tbody tr th {\n        vertical-align: top;\n    }\n\n    .dataframe thead th {\n        text-align: right;\n    }\n</style>\n<table border=\"1\" class=\"dataframe\">\n  <thead>\n    <tr style=\"text-align: right;\">\n      <th></th>\n      <th>budget</th>\n      <th>genres</th>\n      <th>homepage</th>\n      <th>id</th>\n      <th>keywords</th>\n      <th>original_language</th>\n      <th>original_title</th>\n      <th>overview</th>\n      <th>popularity</th>\n      <th>production_companies</th>\n      <th>production_countries</th>\n      <th>release_date</th>\n      <th>revenue</th>\n      <th>runtime</th>\n      <th>spoken_languages</th>\n      <th>status</th>\n      <th>tagline</th>\n      <th>title</th>\n      <th>vote_average</th>\n      <th>vote_count</th>\n    </tr>\n  </thead>\n  <tbody>\n    <tr>\n      <th>0</th>\n      <td>237000000</td>\n      <td>[{\"id\": 28, \"name\": \"Action\"}, {\"id\": 12, \"nam...</td>\n      <td>http://www.avatarmovie.com/</td>\n      <td>19995</td>\n      <td>[{\"id\": 1463, \"name\": \"culture clash\"}, {\"id\":...</td>\n      <td>en</td>\n      <td>Avatar</td>\n      <td>In the 22nd century, a paraplegic Marine is di...</td>\n      <td>150.437577</td>\n      <td>[{\"name\": \"Ingenious Film Partners\", \"id\": 289...</td>\n      <td>[{\"iso_3166_1\": \"US\", \"name\": \"United States o...</td>\n      <td>2009-12-10</td>\n      <td>2787965087</td>\n      <td>162.0</td>\n      <td>[{\"iso_639_1\": \"en\", \"name\": \"English\"}, {\"iso...</td>\n      <td>Released</td>\n      <td>Enter the World of Pandora.</td>\n      <td>Avatar</td>\n      <td>7.2</td>\n      <td>11800</td>\n    </tr>\n    <tr>\n      <th>1</th>\n      <td>300000000</td>\n      <td>[{\"id\": 12, \"name\": \"Adventure\"}, {\"id\": 14, \"...</td>\n      <td>http://disney.go.com/disneypictures/pirates/</td>\n      <td>285</td>\n      <td>[{\"id\": 270, \"name\": \"ocean\"}, {\"id\": 726, \"na...</td>\n      <td>en</td>\n      <td>Pirates of the Caribbean: At World's End</td>\n      <td>Captain Barbossa, long believed to be dead, ha...</td>\n      <td>139.082615</td>\n      <td>[{\"name\": \"Walt Disney Pictures\", \"id\": 2}, {\"...</td>\n      <td>[{\"iso_3166_1\": \"US\", \"name\": \"United States o...</td>\n      <td>2007-05-19</td>\n      <td>961000000</td>\n      <td>169.0</td>\n      <td>[{\"iso_639_1\": \"en\", \"name\": \"English\"}]</td>\n      <td>Released</td>\n      <td>At the end of the world, the adventure begins.</td>\n      <td>Pirates of the Caribbean: At World's End</td>\n      <td>6.9</td>\n      <td>4500</td>\n    </tr>\n    <tr>\n      <th>2</th>\n      <td>245000000</td>\n      <td>[{\"id\": 28, \"name\": \"Action\"}, {\"id\": 12, \"nam...</td>\n      <td>http://www.sonypictures.com/movies/spectre/</td>\n      <td>206647</td>\n      <td>[{\"id\": 470, \"name\": \"spy\"}, {\"id\": 818, \"name...</td>\n      <td>en</td>\n      <td>Spectre</td>\n      <td>A cryptic message from Bond’s past sends him o...</td>\n      <td>107.376788</td>\n      <td>[{\"name\": \"Columbia Pictures\", \"id\": 5}, {\"nam...</td>\n      <td>[{\"iso_3166_1\": \"GB\", \"name\": \"United Kingdom\"...</td>\n      <td>2015-10-26</td>\n      <td>880674609</td>\n      <td>148.0</td>\n      <td>[{\"iso_639_1\": \"fr\", \"name\": \"Fran\\u00e7ais\"},...</td>\n      <td>Released</td>\n      <td>A Plan No One Escapes</td>\n      <td>Spectre</td>\n      <td>6.3</td>\n      <td>4466</td>\n    </tr>\n    <tr>\n      <th>3</th>\n      <td>250000000</td>\n      <td>[{\"id\": 28, \"name\": \"Action\"}, {\"id\": 80, \"nam...</td>\n      <td>http://www.thedarkknightrises.com/</td>\n      <td>49026</td>\n      <td>[{\"id\": 849, \"name\": \"dc comics\"}, {\"id\": 853,...</td>\n      <td>en</td>\n      <td>The Dark Knight Rises</td>\n      <td>Following the death of District Attorney Harve...</td>\n      <td>112.312950</td>\n      <td>[{\"name\": \"Legendary Pictures\", \"id\": 923}, {\"...</td>\n      <td>[{\"iso_3166_1\": \"US\", \"name\": \"United States o...</td>\n      <td>2012-07-16</td>\n      <td>1084939099</td>\n      <td>165.0</td>\n      <td>[{\"iso_639_1\": \"en\", \"name\": \"English\"}]</td>\n      <td>Released</td>\n      <td>The Legend Ends</td>\n      <td>The Dark Knight Rises</td>\n      <td>7.6</td>\n      <td>9106</td>\n    </tr>\n    <tr>\n      <th>4</th>\n      <td>260000000</td>\n      <td>[{\"id\": 28, \"name\": \"Action\"}, {\"id\": 12, \"nam...</td>\n      <td>http://movies.disney.com/john-carter</td>\n      <td>49529</td>\n      <td>[{\"id\": 818, \"name\": \"based on novel\"}, {\"id\":...</td>\n      <td>en</td>\n      <td>John Carter</td>\n      <td>John Carter is a war-weary, former military ca...</td>\n      <td>43.926995</td>\n      <td>[{\"name\": \"Walt Disney Pictures\", \"id\": 2}]</td>\n      <td>[{\"iso_3166_1\": \"US\", \"name\": \"United States o...</td>\n      <td>2012-03-07</td>\n      <td>284139100</td>\n      <td>132.0</td>\n      <td>[{\"iso_639_1\": \"en\", \"name\": \"English\"}]</td>\n      <td>Released</td>\n      <td>Lost in our world, found in another.</td>\n      <td>John Carter</td>\n      <td>6.1</td>\n      <td>2124</td>\n    </tr>\n  </tbody>\n</table>\n</div>"
     },
     "metadata": {},
     "output_type": "execute_result",
     "execution_count": 4
    }
   ],
   "source": [
    "movies_df.head()"
   ]
  },
  {
   "cell_type": "code",
   "execution_count": 5,
   "metadata": {
    "pycharm": {
     "is_executing": false
    }
   },
   "outputs": [
    {
     "name": "stdout",
     "text": [
      "Credits: (4803, 4)\n",
      "Movies Dataframe: (4803, 20)\n"
     ],
     "output_type": "stream"
    }
   ],
   "source": [
    "print(\"Credits:\",credits.shape)\n",
    "print(\"Movies Dataframe:\",movies_df.shape)"
   ]
  },
  {
   "cell_type": "code",
   "execution_count": 6,
   "metadata": {
    "pycharm": {
     "is_executing": false
    }
   },
   "outputs": [
    {
     "data": {
      "text/plain": "      budget                                             genres  \\\n0  237000000  [{\"id\": 28, \"name\": \"Action\"}, {\"id\": 12, \"nam...   \n1  300000000  [{\"id\": 12, \"name\": \"Adventure\"}, {\"id\": 14, \"...   \n2  245000000  [{\"id\": 28, \"name\": \"Action\"}, {\"id\": 12, \"nam...   \n3  250000000  [{\"id\": 28, \"name\": \"Action\"}, {\"id\": 80, \"nam...   \n4  260000000  [{\"id\": 28, \"name\": \"Action\"}, {\"id\": 12, \"nam...   \n\n                                       homepage      id  \\\n0                   http://www.avatarmovie.com/   19995   \n1  http://disney.go.com/disneypictures/pirates/     285   \n2   http://www.sonypictures.com/movies/spectre/  206647   \n3            http://www.thedarkknightrises.com/   49026   \n4          http://movies.disney.com/john-carter   49529   \n\n                                            keywords original_language  \\\n0  [{\"id\": 1463, \"name\": \"culture clash\"}, {\"id\":...                en   \n1  [{\"id\": 270, \"name\": \"ocean\"}, {\"id\": 726, \"na...                en   \n2  [{\"id\": 470, \"name\": \"spy\"}, {\"id\": 818, \"name...                en   \n3  [{\"id\": 849, \"name\": \"dc comics\"}, {\"id\": 853,...                en   \n4  [{\"id\": 818, \"name\": \"based on novel\"}, {\"id\":...                en   \n\n                             original_title  \\\n0                                    Avatar   \n1  Pirates of the Caribbean: At World's End   \n2                                   Spectre   \n3                     The Dark Knight Rises   \n4                               John Carter   \n\n                                            overview  popularity  \\\n0  In the 22nd century, a paraplegic Marine is di...  150.437577   \n1  Captain Barbossa, long believed to be dead, ha...  139.082615   \n2  A cryptic message from Bond’s past sends him o...  107.376788   \n3  Following the death of District Attorney Harve...  112.312950   \n4  John Carter is a war-weary, former military ca...   43.926995   \n\n                                production_companies  ... runtime  \\\n0  [{\"name\": \"Ingenious Film Partners\", \"id\": 289...  ...   162.0   \n1  [{\"name\": \"Walt Disney Pictures\", \"id\": 2}, {\"...  ...   169.0   \n2  [{\"name\": \"Columbia Pictures\", \"id\": 5}, {\"nam...  ...   148.0   \n3  [{\"name\": \"Legendary Pictures\", \"id\": 923}, {\"...  ...   165.0   \n4        [{\"name\": \"Walt Disney Pictures\", \"id\": 2}]  ...   132.0   \n\n                                    spoken_languages    status  \\\n0  [{\"iso_639_1\": \"en\", \"name\": \"English\"}, {\"iso...  Released   \n1           [{\"iso_639_1\": \"en\", \"name\": \"English\"}]  Released   \n2  [{\"iso_639_1\": \"fr\", \"name\": \"Fran\\u00e7ais\"},...  Released   \n3           [{\"iso_639_1\": \"en\", \"name\": \"English\"}]  Released   \n4           [{\"iso_639_1\": \"en\", \"name\": \"English\"}]  Released   \n\n                                          tagline  \\\n0                     Enter the World of Pandora.   \n1  At the end of the world, the adventure begins.   \n2                           A Plan No One Escapes   \n3                                 The Legend Ends   \n4            Lost in our world, found in another.   \n\n                                    title_x vote_average vote_count  \\\n0                                    Avatar          7.2      11800   \n1  Pirates of the Caribbean: At World's End          6.9       4500   \n2                                   Spectre          6.3       4466   \n3                     The Dark Knight Rises          7.6       9106   \n4                               John Carter          6.1       2124   \n\n                                    title_y  \\\n0                                    Avatar   \n1  Pirates of the Caribbean: At World's End   \n2                                   Spectre   \n3                     The Dark Knight Rises   \n4                               John Carter   \n\n                                                cast  \\\n0  [{\"cast_id\": 242, \"character\": \"Jake Sully\", \"...   \n1  [{\"cast_id\": 4, \"character\": \"Captain Jack Spa...   \n2  [{\"cast_id\": 1, \"character\": \"James Bond\", \"cr...   \n3  [{\"cast_id\": 2, \"character\": \"Bruce Wayne / Ba...   \n4  [{\"cast_id\": 5, \"character\": \"John Carter\", \"c...   \n\n                                                crew  \n0  [{\"credit_id\": \"52fe48009251416c750aca23\", \"de...  \n1  [{\"credit_id\": \"52fe4232c3a36847f800b579\", \"de...  \n2  [{\"credit_id\": \"54805967c3a36829b5002c41\", \"de...  \n3  [{\"credit_id\": \"52fe4781c3a36847f81398c3\", \"de...  \n4  [{\"credit_id\": \"52fe479ac3a36847f813eaa3\", \"de...  \n\n[5 rows x 23 columns]",
      "text/html": "<div>\n<style scoped>\n    .dataframe tbody tr th:only-of-type {\n        vertical-align: middle;\n    }\n\n    .dataframe tbody tr th {\n        vertical-align: top;\n    }\n\n    .dataframe thead th {\n        text-align: right;\n    }\n</style>\n<table border=\"1\" class=\"dataframe\">\n  <thead>\n    <tr style=\"text-align: right;\">\n      <th></th>\n      <th>budget</th>\n      <th>genres</th>\n      <th>homepage</th>\n      <th>id</th>\n      <th>keywords</th>\n      <th>original_language</th>\n      <th>original_title</th>\n      <th>overview</th>\n      <th>popularity</th>\n      <th>production_companies</th>\n      <th>...</th>\n      <th>runtime</th>\n      <th>spoken_languages</th>\n      <th>status</th>\n      <th>tagline</th>\n      <th>title_x</th>\n      <th>vote_average</th>\n      <th>vote_count</th>\n      <th>title_y</th>\n      <th>cast</th>\n      <th>crew</th>\n    </tr>\n  </thead>\n  <tbody>\n    <tr>\n      <th>0</th>\n      <td>237000000</td>\n      <td>[{\"id\": 28, \"name\": \"Action\"}, {\"id\": 12, \"nam...</td>\n      <td>http://www.avatarmovie.com/</td>\n      <td>19995</td>\n      <td>[{\"id\": 1463, \"name\": \"culture clash\"}, {\"id\":...</td>\n      <td>en</td>\n      <td>Avatar</td>\n      <td>In the 22nd century, a paraplegic Marine is di...</td>\n      <td>150.437577</td>\n      <td>[{\"name\": \"Ingenious Film Partners\", \"id\": 289...</td>\n      <td>...</td>\n      <td>162.0</td>\n      <td>[{\"iso_639_1\": \"en\", \"name\": \"English\"}, {\"iso...</td>\n      <td>Released</td>\n      <td>Enter the World of Pandora.</td>\n      <td>Avatar</td>\n      <td>7.2</td>\n      <td>11800</td>\n      <td>Avatar</td>\n      <td>[{\"cast_id\": 242, \"character\": \"Jake Sully\", \"...</td>\n      <td>[{\"credit_id\": \"52fe48009251416c750aca23\", \"de...</td>\n    </tr>\n    <tr>\n      <th>1</th>\n      <td>300000000</td>\n      <td>[{\"id\": 12, \"name\": \"Adventure\"}, {\"id\": 14, \"...</td>\n      <td>http://disney.go.com/disneypictures/pirates/</td>\n      <td>285</td>\n      <td>[{\"id\": 270, \"name\": \"ocean\"}, {\"id\": 726, \"na...</td>\n      <td>en</td>\n      <td>Pirates of the Caribbean: At World's End</td>\n      <td>Captain Barbossa, long believed to be dead, ha...</td>\n      <td>139.082615</td>\n      <td>[{\"name\": \"Walt Disney Pictures\", \"id\": 2}, {\"...</td>\n      <td>...</td>\n      <td>169.0</td>\n      <td>[{\"iso_639_1\": \"en\", \"name\": \"English\"}]</td>\n      <td>Released</td>\n      <td>At the end of the world, the adventure begins.</td>\n      <td>Pirates of the Caribbean: At World's End</td>\n      <td>6.9</td>\n      <td>4500</td>\n      <td>Pirates of the Caribbean: At World's End</td>\n      <td>[{\"cast_id\": 4, \"character\": \"Captain Jack Spa...</td>\n      <td>[{\"credit_id\": \"52fe4232c3a36847f800b579\", \"de...</td>\n    </tr>\n    <tr>\n      <th>2</th>\n      <td>245000000</td>\n      <td>[{\"id\": 28, \"name\": \"Action\"}, {\"id\": 12, \"nam...</td>\n      <td>http://www.sonypictures.com/movies/spectre/</td>\n      <td>206647</td>\n      <td>[{\"id\": 470, \"name\": \"spy\"}, {\"id\": 818, \"name...</td>\n      <td>en</td>\n      <td>Spectre</td>\n      <td>A cryptic message from Bond’s past sends him o...</td>\n      <td>107.376788</td>\n      <td>[{\"name\": \"Columbia Pictures\", \"id\": 5}, {\"nam...</td>\n      <td>...</td>\n      <td>148.0</td>\n      <td>[{\"iso_639_1\": \"fr\", \"name\": \"Fran\\u00e7ais\"},...</td>\n      <td>Released</td>\n      <td>A Plan No One Escapes</td>\n      <td>Spectre</td>\n      <td>6.3</td>\n      <td>4466</td>\n      <td>Spectre</td>\n      <td>[{\"cast_id\": 1, \"character\": \"James Bond\", \"cr...</td>\n      <td>[{\"credit_id\": \"54805967c3a36829b5002c41\", \"de...</td>\n    </tr>\n    <tr>\n      <th>3</th>\n      <td>250000000</td>\n      <td>[{\"id\": 28, \"name\": \"Action\"}, {\"id\": 80, \"nam...</td>\n      <td>http://www.thedarkknightrises.com/</td>\n      <td>49026</td>\n      <td>[{\"id\": 849, \"name\": \"dc comics\"}, {\"id\": 853,...</td>\n      <td>en</td>\n      <td>The Dark Knight Rises</td>\n      <td>Following the death of District Attorney Harve...</td>\n      <td>112.312950</td>\n      <td>[{\"name\": \"Legendary Pictures\", \"id\": 923}, {\"...</td>\n      <td>...</td>\n      <td>165.0</td>\n      <td>[{\"iso_639_1\": \"en\", \"name\": \"English\"}]</td>\n      <td>Released</td>\n      <td>The Legend Ends</td>\n      <td>The Dark Knight Rises</td>\n      <td>7.6</td>\n      <td>9106</td>\n      <td>The Dark Knight Rises</td>\n      <td>[{\"cast_id\": 2, \"character\": \"Bruce Wayne / Ba...</td>\n      <td>[{\"credit_id\": \"52fe4781c3a36847f81398c3\", \"de...</td>\n    </tr>\n    <tr>\n      <th>4</th>\n      <td>260000000</td>\n      <td>[{\"id\": 28, \"name\": \"Action\"}, {\"id\": 12, \"nam...</td>\n      <td>http://movies.disney.com/john-carter</td>\n      <td>49529</td>\n      <td>[{\"id\": 818, \"name\": \"based on novel\"}, {\"id\":...</td>\n      <td>en</td>\n      <td>John Carter</td>\n      <td>John Carter is a war-weary, former military ca...</td>\n      <td>43.926995</td>\n      <td>[{\"name\": \"Walt Disney Pictures\", \"id\": 2}]</td>\n      <td>...</td>\n      <td>132.0</td>\n      <td>[{\"iso_639_1\": \"en\", \"name\": \"English\"}]</td>\n      <td>Released</td>\n      <td>Lost in our world, found in another.</td>\n      <td>John Carter</td>\n      <td>6.1</td>\n      <td>2124</td>\n      <td>John Carter</td>\n      <td>[{\"cast_id\": 5, \"character\": \"John Carter\", \"c...</td>\n      <td>[{\"credit_id\": \"52fe479ac3a36847f813eaa3\", \"de...</td>\n    </tr>\n  </tbody>\n</table>\n<p>5 rows × 23 columns</p>\n</div>"
     },
     "metadata": {},
     "output_type": "execute_result",
     "execution_count": 6
    }
   ],
   "source": [
    "credits_column_renamed = credits.rename(index=str,columns={\"movie_id\":\"id\"})\n",
    "movies_df_merge = movies_df.merge(credits_column_renamed, on=\"id\")\n",
    "movies_df_merge.head()"
   ]
  },
  {
   "cell_type": "code",
   "execution_count": 7,
   "metadata": {
    "pycharm": {
     "is_executing": false
    }
   },
   "outputs": [
    {
     "data": {
      "text/plain": "      budget                                             genres      id  \\\n0  237000000  [{\"id\": 28, \"name\": \"Action\"}, {\"id\": 12, \"nam...   19995   \n1  300000000  [{\"id\": 12, \"name\": \"Adventure\"}, {\"id\": 14, \"...     285   \n2  245000000  [{\"id\": 28, \"name\": \"Action\"}, {\"id\": 12, \"nam...  206647   \n3  250000000  [{\"id\": 28, \"name\": \"Action\"}, {\"id\": 80, \"nam...   49026   \n4  260000000  [{\"id\": 28, \"name\": \"Action\"}, {\"id\": 12, \"nam...   49529   \n\n                                            keywords original_language  \\\n0  [{\"id\": 1463, \"name\": \"culture clash\"}, {\"id\":...                en   \n1  [{\"id\": 270, \"name\": \"ocean\"}, {\"id\": 726, \"na...                en   \n2  [{\"id\": 470, \"name\": \"spy\"}, {\"id\": 818, \"name...                en   \n3  [{\"id\": 849, \"name\": \"dc comics\"}, {\"id\": 853,...                en   \n4  [{\"id\": 818, \"name\": \"based on novel\"}, {\"id\":...                en   \n\n                             original_title  \\\n0                                    Avatar   \n1  Pirates of the Caribbean: At World's End   \n2                                   Spectre   \n3                     The Dark Knight Rises   \n4                               John Carter   \n\n                                            overview  popularity  \\\n0  In the 22nd century, a paraplegic Marine is di...  150.437577   \n1  Captain Barbossa, long believed to be dead, ha...  139.082615   \n2  A cryptic message from Bond’s past sends him o...  107.376788   \n3  Following the death of District Attorney Harve...  112.312950   \n4  John Carter is a war-weary, former military ca...   43.926995   \n\n                                production_companies release_date     revenue  \\\n0  [{\"name\": \"Ingenious Film Partners\", \"id\": 289...   2009-12-10  2787965087   \n1  [{\"name\": \"Walt Disney Pictures\", \"id\": 2}, {\"...   2007-05-19   961000000   \n2  [{\"name\": \"Columbia Pictures\", \"id\": 5}, {\"nam...   2015-10-26   880674609   \n3  [{\"name\": \"Legendary Pictures\", \"id\": 923}, {\"...   2012-07-16  1084939099   \n4        [{\"name\": \"Walt Disney Pictures\", \"id\": 2}]   2012-03-07   284139100   \n\n   runtime                                   spoken_languages  \\\n0    162.0  [{\"iso_639_1\": \"en\", \"name\": \"English\"}, {\"iso...   \n1    169.0           [{\"iso_639_1\": \"en\", \"name\": \"English\"}]   \n2    148.0  [{\"iso_639_1\": \"fr\", \"name\": \"Fran\\u00e7ais\"},...   \n3    165.0           [{\"iso_639_1\": \"en\", \"name\": \"English\"}]   \n4    132.0           [{\"iso_639_1\": \"en\", \"name\": \"English\"}]   \n\n                                          tagline  vote_average  vote_count  \\\n0                     Enter the World of Pandora.           7.2       11800   \n1  At the end of the world, the adventure begins.           6.9        4500   \n2                           A Plan No One Escapes           6.3        4466   \n3                                 The Legend Ends           7.6        9106   \n4            Lost in our world, found in another.           6.1        2124   \n\n                                                cast  \\\n0  [{\"cast_id\": 242, \"character\": \"Jake Sully\", \"...   \n1  [{\"cast_id\": 4, \"character\": \"Captain Jack Spa...   \n2  [{\"cast_id\": 1, \"character\": \"James Bond\", \"cr...   \n3  [{\"cast_id\": 2, \"character\": \"Bruce Wayne / Ba...   \n4  [{\"cast_id\": 5, \"character\": \"John Carter\", \"c...   \n\n                                                crew  \n0  [{\"credit_id\": \"52fe48009251416c750aca23\", \"de...  \n1  [{\"credit_id\": \"52fe4232c3a36847f800b579\", \"de...  \n2  [{\"credit_id\": \"54805967c3a36829b5002c41\", \"de...  \n3  [{\"credit_id\": \"52fe4781c3a36847f81398c3\", \"de...  \n4  [{\"credit_id\": \"52fe479ac3a36847f813eaa3\", \"de...  ",
      "text/html": "<div>\n<style scoped>\n    .dataframe tbody tr th:only-of-type {\n        vertical-align: middle;\n    }\n\n    .dataframe tbody tr th {\n        vertical-align: top;\n    }\n\n    .dataframe thead th {\n        text-align: right;\n    }\n</style>\n<table border=\"1\" class=\"dataframe\">\n  <thead>\n    <tr style=\"text-align: right;\">\n      <th></th>\n      <th>budget</th>\n      <th>genres</th>\n      <th>id</th>\n      <th>keywords</th>\n      <th>original_language</th>\n      <th>original_title</th>\n      <th>overview</th>\n      <th>popularity</th>\n      <th>production_companies</th>\n      <th>release_date</th>\n      <th>revenue</th>\n      <th>runtime</th>\n      <th>spoken_languages</th>\n      <th>tagline</th>\n      <th>vote_average</th>\n      <th>vote_count</th>\n      <th>cast</th>\n      <th>crew</th>\n    </tr>\n  </thead>\n  <tbody>\n    <tr>\n      <th>0</th>\n      <td>237000000</td>\n      <td>[{\"id\": 28, \"name\": \"Action\"}, {\"id\": 12, \"nam...</td>\n      <td>19995</td>\n      <td>[{\"id\": 1463, \"name\": \"culture clash\"}, {\"id\":...</td>\n      <td>en</td>\n      <td>Avatar</td>\n      <td>In the 22nd century, a paraplegic Marine is di...</td>\n      <td>150.437577</td>\n      <td>[{\"name\": \"Ingenious Film Partners\", \"id\": 289...</td>\n      <td>2009-12-10</td>\n      <td>2787965087</td>\n      <td>162.0</td>\n      <td>[{\"iso_639_1\": \"en\", \"name\": \"English\"}, {\"iso...</td>\n      <td>Enter the World of Pandora.</td>\n      <td>7.2</td>\n      <td>11800</td>\n      <td>[{\"cast_id\": 242, \"character\": \"Jake Sully\", \"...</td>\n      <td>[{\"credit_id\": \"52fe48009251416c750aca23\", \"de...</td>\n    </tr>\n    <tr>\n      <th>1</th>\n      <td>300000000</td>\n      <td>[{\"id\": 12, \"name\": \"Adventure\"}, {\"id\": 14, \"...</td>\n      <td>285</td>\n      <td>[{\"id\": 270, \"name\": \"ocean\"}, {\"id\": 726, \"na...</td>\n      <td>en</td>\n      <td>Pirates of the Caribbean: At World's End</td>\n      <td>Captain Barbossa, long believed to be dead, ha...</td>\n      <td>139.082615</td>\n      <td>[{\"name\": \"Walt Disney Pictures\", \"id\": 2}, {\"...</td>\n      <td>2007-05-19</td>\n      <td>961000000</td>\n      <td>169.0</td>\n      <td>[{\"iso_639_1\": \"en\", \"name\": \"English\"}]</td>\n      <td>At the end of the world, the adventure begins.</td>\n      <td>6.9</td>\n      <td>4500</td>\n      <td>[{\"cast_id\": 4, \"character\": \"Captain Jack Spa...</td>\n      <td>[{\"credit_id\": \"52fe4232c3a36847f800b579\", \"de...</td>\n    </tr>\n    <tr>\n      <th>2</th>\n      <td>245000000</td>\n      <td>[{\"id\": 28, \"name\": \"Action\"}, {\"id\": 12, \"nam...</td>\n      <td>206647</td>\n      <td>[{\"id\": 470, \"name\": \"spy\"}, {\"id\": 818, \"name...</td>\n      <td>en</td>\n      <td>Spectre</td>\n      <td>A cryptic message from Bond’s past sends him o...</td>\n      <td>107.376788</td>\n      <td>[{\"name\": \"Columbia Pictures\", \"id\": 5}, {\"nam...</td>\n      <td>2015-10-26</td>\n      <td>880674609</td>\n      <td>148.0</td>\n      <td>[{\"iso_639_1\": \"fr\", \"name\": \"Fran\\u00e7ais\"},...</td>\n      <td>A Plan No One Escapes</td>\n      <td>6.3</td>\n      <td>4466</td>\n      <td>[{\"cast_id\": 1, \"character\": \"James Bond\", \"cr...</td>\n      <td>[{\"credit_id\": \"54805967c3a36829b5002c41\", \"de...</td>\n    </tr>\n    <tr>\n      <th>3</th>\n      <td>250000000</td>\n      <td>[{\"id\": 28, \"name\": \"Action\"}, {\"id\": 80, \"nam...</td>\n      <td>49026</td>\n      <td>[{\"id\": 849, \"name\": \"dc comics\"}, {\"id\": 853,...</td>\n      <td>en</td>\n      <td>The Dark Knight Rises</td>\n      <td>Following the death of District Attorney Harve...</td>\n      <td>112.312950</td>\n      <td>[{\"name\": \"Legendary Pictures\", \"id\": 923}, {\"...</td>\n      <td>2012-07-16</td>\n      <td>1084939099</td>\n      <td>165.0</td>\n      <td>[{\"iso_639_1\": \"en\", \"name\": \"English\"}]</td>\n      <td>The Legend Ends</td>\n      <td>7.6</td>\n      <td>9106</td>\n      <td>[{\"cast_id\": 2, \"character\": \"Bruce Wayne / Ba...</td>\n      <td>[{\"credit_id\": \"52fe4781c3a36847f81398c3\", \"de...</td>\n    </tr>\n    <tr>\n      <th>4</th>\n      <td>260000000</td>\n      <td>[{\"id\": 28, \"name\": \"Action\"}, {\"id\": 12, \"nam...</td>\n      <td>49529</td>\n      <td>[{\"id\": 818, \"name\": \"based on novel\"}, {\"id\":...</td>\n      <td>en</td>\n      <td>John Carter</td>\n      <td>John Carter is a war-weary, former military ca...</td>\n      <td>43.926995</td>\n      <td>[{\"name\": \"Walt Disney Pictures\", \"id\": 2}]</td>\n      <td>2012-03-07</td>\n      <td>284139100</td>\n      <td>132.0</td>\n      <td>[{\"iso_639_1\": \"en\", \"name\": \"English\"}]</td>\n      <td>Lost in our world, found in another.</td>\n      <td>6.1</td>\n      <td>2124</td>\n      <td>[{\"cast_id\": 5, \"character\": \"John Carter\", \"c...</td>\n      <td>[{\"credit_id\": \"52fe479ac3a36847f813eaa3\", \"de...</td>\n    </tr>\n  </tbody>\n</table>\n</div>"
     },
     "metadata": {},
     "output_type": "execute_result",
     "execution_count": 7
    }
   ],
   "source": [
    "movies_cleaned_df = movies_df_merge.drop(columns=['homepage','title_x','title_y','status','production_countries'])\n",
    "movies_cleaned_df.head()"
   ]
  },
  {
   "cell_type": "code",
   "execution_count": 8,
   "metadata": {
    "pycharm": {
     "is_executing": false
    }
   },
   "outputs": [
    {
     "name": "stdout",
     "text": [
      "<class 'pandas.core.frame.DataFrame'>\n",
      "Int64Index: 4803 entries, 0 to 4802\n",
      "Data columns (total 18 columns):\n",
      "budget                  4803 non-null int64\n",
      "genres                  4803 non-null object\n",
      "id                      4803 non-null int64\n",
      "keywords                4803 non-null object\n",
      "original_language       4803 non-null object\n",
      "original_title          4803 non-null object\n",
      "overview                4800 non-null object\n",
      "popularity              4803 non-null float64\n",
      "production_companies    4803 non-null object\n",
      "release_date            4802 non-null object\n",
      "revenue                 4803 non-null int64\n",
      "runtime                 4801 non-null float64\n",
      "spoken_languages        4803 non-null object\n",
      "tagline                 3959 non-null object\n",
      "vote_average            4803 non-null float64\n",
      "vote_count              4803 non-null int64\n",
      "cast                    4803 non-null object\n",
      "crew                    4803 non-null object\n",
      "dtypes: float64(3), int64(4), object(11)\n",
      "memory usage: 712.9+ KB\n"
     ],
     "output_type": "stream"
    }
   ],
   "source": [
    "movies_cleaned_df.info()"
   ]
  },
  {
   "cell_type": "code",
   "execution_count": 9,
   "metadata": {
    "pycharm": {
     "is_executing": false
    }
   },
   "outputs": [
    {
     "data": {
      "text/plain": "0    In the 22nd century, a paraplegic Marine is di...\nName: overview, dtype: object"
     },
     "metadata": {},
     "output_type": "execute_result",
     "execution_count": 9
    }
   ],
   "source": [
    "movies_cleaned_df.head(1)['overview']"
   ]
  },
  {
   "cell_type": "code",
   "execution_count": 10,
   "metadata": {
    "pycharm": {
     "is_executing": false
    }
   },
   "outputs": [],
   "source": [
    "from sklearn.feature_extraction.text import TfidfVectorizer\n",
    "\n",
    "tfv = TfidfVectorizer(min_df=3,max_features=None,\n",
    "                    strip_accents='unicode',analyzer='word',\n",
    "                    token_pattern=r'\\w{1,}',\n",
    "                    stop_words ='english')\n",
    "movies_cleaned_df['overview'] = movies_cleaned_df['overview'].fillna('')"
   ]
  },
  {
   "cell_type": "code",
   "execution_count": 11,
   "metadata": {
    "pycharm": {
     "is_executing": false
    }
   },
   "outputs": [],
   "source": [
    "tfv_matrix = tfv.fit_transform(movies_cleaned_df['overview'])"
   ]
  },
  {
   "cell_type": "code",
   "execution_count": 12,
   "metadata": {
    "pycharm": {
     "is_executing": false
    }
   },
   "outputs": [
    {
     "data": {
      "text/plain": "<4803x7591 sparse matrix of type '<class 'numpy.float64'>'\n\twith 112085 stored elements in Compressed Sparse Row format>"
     },
     "metadata": {},
     "output_type": "execute_result",
     "execution_count": 12
    }
   ],
   "source": [
    "tfv_matrix"
   ]
  },
  {
   "cell_type": "code",
   "execution_count": 13,
   "metadata": {
    "pycharm": {
     "is_executing": false
    }
   },
   "outputs": [
    {
     "data": {
      "text/plain": "(4803, 7591)"
     },
     "metadata": {},
     "output_type": "execute_result",
     "execution_count": 13
    }
   ],
   "source": [
    "tfv_matrix.shape"
   ]
  },
  {
   "cell_type": "code",
   "execution_count": 14,
   "metadata": {
    "pycharm": {
     "is_executing": false
    }
   },
   "outputs": [],
   "source": [
    "from sklearn.metrics.pairwise import sigmoid_kernel\n",
    "\n",
    "sig = sigmoid_kernel(tfv_matrix, tfv_matrix)"
   ]
  },
  {
   "cell_type": "code",
   "execution_count": 15,
   "metadata": {
    "pycharm": {
     "is_executing": false
    }
   },
   "outputs": [
    {
     "data": {
      "text/plain": "array([0.76164948, 0.76159416, 0.76159416, ..., 0.76159416, 0.76159416,\n       0.76159416])"
     },
     "metadata": {},
     "output_type": "execute_result",
     "execution_count": 15
    }
   ],
   "source": [
    "sig[0]"
   ]
  },
  {
   "cell_type": "code",
   "execution_count": 16,
   "metadata": {
    "pycharm": {
     "is_executing": false
    }
   },
   "outputs": [],
   "source": [
    "indices = pd.Series(movies_cleaned_df.index, index = movies_cleaned_df['original_title']).drop_duplicates()"
   ]
  },
  {
   "cell_type": "code",
   "execution_count": 17,
   "metadata": {
    "pycharm": {
     "is_executing": false
    }
   },
   "outputs": [
    {
     "data": {
      "text/plain": "original_title\nAvatar                                         0\nPirates of the Caribbean: At World's End       1\nSpectre                                        2\nThe Dark Knight Rises                          3\nJohn Carter                                    4\n                                            ... \nEl Mariachi                                 4798\nNewlyweds                                   4799\nSigned, Sealed, Delivered                   4800\nShanghai Calling                            4801\nMy Date with Drew                           4802\nLength: 4803, dtype: int64"
     },
     "metadata": {},
     "output_type": "execute_result",
     "execution_count": 17
    }
   ],
   "source": [
    "indices"
   ]
  },
  {
   "cell_type": "code",
   "execution_count": 18,
   "metadata": {
    "pycharm": {
     "is_executing": false
    }
   },
   "outputs": [
    {
     "data": {
      "text/plain": "4799"
     },
     "metadata": {},
     "output_type": "execute_result",
     "execution_count": 18
    }
   ],
   "source": [
    "indices['Newlyweds']"
   ]
  },
  {
   "cell_type": "code",
   "execution_count": 19,
   "metadata": {
    "pycharm": {
     "is_executing": false
    }
   },
   "outputs": [
    {
     "data": {
      "text/plain": "array([0.76159416, 0.76159416, 0.76159455, ..., 0.76159444, 0.76159416,\n       0.76159529])"
     },
     "metadata": {},
     "output_type": "execute_result",
     "execution_count": 19
    }
   ],
   "source": [
    "sig[4799]"
   ]
  },
  {
   "cell_type": "code",
   "execution_count": 20,
   "metadata": {
    "pycharm": {
     "is_executing": false
    }
   },
   "outputs": [
    {
     "data": {
      "text/plain": "[(0, 0.7615941559557649),\n (1, 0.7615941559557649),\n (2, 0.7615945494952967),\n (3, 0.7615949049141019),\n (4, 0.7615948772592205),\n (5, 0.7615944901162737),\n (6, 0.7615953080378194),\n (7, 0.7615944979290512),\n (8, 0.7615946037498131),\n (9, 0.761595127972932),\n (10, 0.7615941559557649),\n (11, 0.7615941559557649),\n (12, 0.7615941559557649),\n (13, 0.7615941559557649),\n (14, 0.7615941559557649),\n (15, 0.7615941559557649),\n (16, 0.7615945170465028),\n (17, 0.7615957702611595),\n (18, 0.7615943697798779),\n (19, 0.7615947284704833),\n (20, 0.7615944020390416),\n (21, 0.7615956261867035),\n (22, 0.7615941559557649),\n (23, 0.76159459866462),\n (24, 0.7615941559557649),\n (25, 0.7615941559557649),\n (26, 0.7615941559557649),\n (27, 0.7615946841143312),\n (28, 0.7615941559557649),\n (29, 0.7615944049585839),\n (30, 0.7615944868121285),\n (31, 0.7615947212277733),\n (32, 0.7615941559557649),\n (33, 0.7615946194748149),\n (34, 0.7615941559557649),\n (35, 0.7615941559557649),\n (36, 0.7615941559557649),\n (37, 0.7615945706708777),\n (38, 0.7615944096247431),\n (39, 0.7615945239167682),\n (40, 0.7615941559557649),\n (41, 0.7615941559557649),\n (42, 0.7615944881683816),\n (43, 0.7615945072720414),\n (44, 0.7615941559557649),\n (45, 0.7615941559557649),\n (46, 0.7615941559557649),\n (47, 0.7615941559557649),\n (48, 0.7615941559557649),\n (49, 0.7615949729569567),\n (50, 0.7615941559557649),\n (51, 0.7615946316907516),\n (52, 0.7615945368689085),\n (53, 0.7615947725068822),\n (54, 0.7615941559557649),\n (55, 0.7615946334798562),\n (56, 0.7615941559557649),\n (57, 0.7615944443611508),\n (58, 0.7615947551559061),\n (59, 0.7615951028770029),\n (60, 0.7615941559557649),\n (61, 0.7615941559557649),\n (62, 0.7615941559557649),\n (63, 0.761594468271965),\n (64, 0.7615946833952991),\n (65, 0.7615941559557649),\n (66, 0.7615941559557649),\n (67, 0.7615941559557649),\n (68, 0.7615941559557649),\n (69, 0.7615941559557649),\n (70, 0.7615944980282786),\n (71, 0.7615944912649776),\n (72, 0.7615941559557649),\n (73, 0.7615941559557649),\n (74, 0.7615941559557649),\n (75, 0.7615945314077894),\n (76, 0.7615941559557649),\n (77, 0.7615946944070294),\n (78, 0.7615941559557649),\n (79, 0.7615941559557649),\n (80, 0.7615941559557649),\n (81, 0.7615951146176899),\n (82, 0.7615941559557649),\n (83, 0.7615941559557649),\n (84, 0.7615944033887974),\n (85, 0.7615943704824143),\n (86, 0.76159451523522),\n (87, 0.7615941559557649),\n (88, 0.7615941559557649),\n (89, 0.7615946817327048),\n (90, 0.7615941559557649),\n (91, 0.7615941559557649),\n (92, 0.7615941559557649),\n (93, 0.7615950231323207),\n (94, 0.7615941559557649),\n (95, 0.7615941559557649),\n (96, 0.7615949856925486),\n (97, 0.7615944601219204),\n (98, 0.7615941559557649),\n (99, 0.7615947917259301),\n (100, 0.7615941559557649),\n (101, 0.7615941559557649),\n (102, 0.7615941559557649),\n (103, 0.7615941559557649),\n (104, 0.7615941559557649),\n (105, 0.7615946524303034),\n (106, 0.7615941559557649),\n (107, 0.7615941559557649),\n (108, 0.7615945301454555),\n (109, 0.7615941559557649),\n (110, 0.7615944766643555),\n (111, 0.7615941559557649),\n (112, 0.7615941559557649),\n (113, 0.7615945261144789),\n (114, 0.7615941559557649),\n (115, 0.7615952643691687),\n (116, 0.7615941559557649),\n (117, 0.7615946776502314),\n (118, 0.7615945620527309),\n (119, 0.7615941559557649),\n (120, 0.7615941559557649),\n (121, 0.7615945092920581),\n (122, 0.7615941559557649),\n (123, 0.7615941559557649),\n (124, 0.7615948963637807),\n (125, 0.7615944907916052),\n (126, 0.7615941559557649),\n (127, 0.7615944417582436),\n (128, 0.7615941559557649),\n (129, 0.7615944567132639),\n (130, 0.7615949105073745),\n (131, 0.7615941559557649),\n (132, 0.7615944387350597),\n (133, 0.7615941559557649),\n (134, 0.7615941559557649),\n (135, 0.7615941559557649),\n (136, 0.7615944647803123),\n (137, 0.7615943435801308),\n (138, 0.7615941559557649),\n (139, 0.7615941559557649),\n (140, 0.7615947709936929),\n (141, 0.7615941559557649),\n (142, 0.7615941559557649),\n (143, 0.7615941559557649),\n (144, 0.7615941559557649),\n (145, 0.7615941559557649),\n (146, 0.7615941559557649),\n (147, 0.7615944969219296),\n (148, 0.7615941559557649),\n (149, 0.7615941559557649),\n (150, 0.7615949091983534),\n (151, 0.7615941559557649),\n (152, 0.7615941559557649),\n (153, 0.7615941559557649),\n (154, 0.7615941559557649),\n (155, 0.7615958030375678),\n (156, 0.761594494283319),\n (157, 0.7615941559557649),\n (158, 0.7615941559557649),\n (159, 0.7615941559557649),\n (160, 0.7615944206542247),\n (161, 0.7615941559557649),\n (162, 0.7615941559557649),\n (163, 0.7615941559557649),\n (164, 0.7615948571299513),\n (165, 0.7615941559557649),\n (166, 0.7615941559557649),\n (167, 0.7615941559557649),\n (168, 0.7615941559557649),\n (169, 0.7615948080169639),\n (170, 0.7615954147714842),\n (171, 0.7615944817489406),\n (172, 0.7615941559557649),\n (173, 0.7615941559557649),\n (174, 0.7615941559557649),\n (175, 0.7615944939725663),\n (176, 0.7615941559557649),\n (177, 0.7615941559557649),\n (178, 0.7615941559557649),\n (179, 0.7615941559557649),\n (180, 0.7615944898481408),\n (181, 0.7615945198150311),\n (182, 0.7615941559557649),\n (183, 0.7615944190264621),\n (184, 0.7615944757704828),\n (185, 0.7615941559557649),\n (186, 0.7615941559557649),\n (187, 0.7615941559557649),\n (188, 0.7615944655045225),\n (189, 0.7615941559557649),\n (190, 0.7615941559557649),\n (191, 0.7615941559557649),\n (192, 0.7615941559557649),\n (193, 0.7615949752683895),\n (194, 0.7615941559557649),\n (195, 0.7615941559557649),\n (196, 0.7615941559557649),\n (197, 0.7615954144785959),\n (198, 0.7615941559557649),\n (199, 0.7615948183097385),\n (200, 0.7615941559557649),\n (201, 0.7615946284085389),\n (202, 0.7615945996806506),\n (203, 0.7615945005879698),\n (204, 0.7615941559557649),\n (205, 0.7615941559557649),\n (206, 0.7615941559557649),\n (207, 0.7615945212849802),\n (208, 0.7615941559557649),\n (209, 0.7615941559557649),\n (210, 0.7615941559557649),\n (211, 0.7615941559557649),\n (212, 0.7615941559557649),\n (213, 0.7615941559557649),\n (214, 0.7615941559557649),\n (215, 0.7615941559557649),\n (216, 0.7615946501330696),\n (217, 0.7615947163777711),\n (218, 0.7615941559557649),\n (219, 0.7615941559557649),\n (220, 0.7615941559557649),\n (221, 0.7615945201389571),\n (222, 0.7615941559557649),\n (223, 0.7615945025880178),\n (224, 0.7615941559557649),\n (225, 0.7615941559557649),\n (226, 0.7615941559557649),\n (227, 0.7615967816391047),\n (228, 0.761594459391737),\n (229, 0.7615945307895129),\n (230, 0.7615941559557649),\n (231, 0.7615941559557649),\n (232, 0.7615941559557649),\n (233, 0.7615941559557649),\n (234, 0.7615945553596284),\n (235, 0.7615941559557649),\n (236, 0.7615941559557649),\n (237, 0.7615991491615768),\n (238, 0.7615944220470245),\n (239, 0.7615941559557649),\n (240, 0.7615944962083481),\n (241, 0.7615941559557649),\n (242, 0.7616010634140858),\n (243, 0.7615944747053734),\n (244, 0.7615941559557649),\n (245, 0.7615945723352033),\n (246, 0.7615941559557649),\n (247, 0.7615941559557649),\n (248, 0.7615945130658488),\n (249, 0.7615941559557649),\n (250, 0.7615941559557649),\n (251, 0.7615941559557649),\n (252, 0.7615944802310491),\n (253, 0.7615944116320805),\n (254, 0.7615941559557649),\n (255, 0.7615941559557649),\n (256, 0.7615941559557649),\n (257, 0.7615945472857195),\n (258, 0.7615962551703263),\n (259, 0.7615970931473258),\n (260, 0.7615951439404736),\n (261, 0.76159501005776),\n (262, 0.7615941559557649),\n (263, 0.7615941559557649),\n (264, 0.7615944378643764),\n (265, 0.7615945820374403),\n (266, 0.7615941559557649),\n (267, 0.7615941559557649),\n (268, 0.7615941559557649),\n (269, 0.7615941559557649),\n (270, 0.7615941559557649),\n (271, 0.7615941559557649),\n (272, 0.7615941559557649),\n (273, 0.7615944665450477),\n (274, 0.7615943574148576),\n (275, 0.7615941559557649),\n (276, 0.7615941559557649),\n (277, 0.7615944216244204),\n (278, 0.7615941559557649),\n (279, 0.7615941559557649),\n (280, 0.7615950975506258),\n (281, 0.7615941559557649),\n (282, 0.7615941559557649),\n (283, 0.7615945944119875),\n (284, 0.7615949042667243),\n (285, 0.7615946891310965),\n (286, 0.7615954546187496),\n (287, 0.7615941559557649),\n (288, 0.7615941559557649),\n (289, 0.761595251180798),\n (290, 0.7615941559557649),\n (291, 0.7615944437902002),\n (292, 0.7615951596007983),\n (293, 0.7615941559557649),\n (294, 0.7615941559557649),\n (295, 0.7615945729097683),\n (296, 0.7615945248341055),\n (297, 0.7615944703723636),\n (298, 0.7615946033085188),\n (299, 0.7615946942258454),\n (300, 0.7615945013650733),\n (301, 0.7615941559557649),\n (302, 0.7615949196112328),\n (303, 0.76159480476514),\n (304, 0.7615941559557649),\n (305, 0.7615941559557649),\n (306, 0.7615941559557649),\n (307, 0.7615941559557649),\n (308, 0.7615941559557649),\n (309, 0.7615941559557649),\n (310, 0.7615948661485812),\n (311, 0.7615941559557649),\n (312, 0.7615944743214655),\n (313, 0.7615941559557649),\n (314, 0.7615948661882701),\n (315, 0.761594532833318),\n (316, 0.7615944703009033),\n (317, 0.761594652599728),\n (318, 0.7615944137733597),\n (319, 0.7615941559557649),\n (320, 0.7615945728031044),\n (321, 0.7615941559557649),\n (322, 0.7615941559557649),\n (323, 0.7615941559557649),\n (324, 0.7615941559557649),\n (325, 0.7615941559557649),\n (326, 0.7615945435104461),\n (327, 0.7615941559557649),\n (328, 0.7615949043463515),\n (329, 0.761594980032754),\n (330, 0.7615941559557649),\n (331, 0.7615944831577687),\n (332, 0.7615945172952606),\n (333, 0.7615941559557649),\n (334, 0.7615941559557649),\n (335, 0.7615945216768122),\n (336, 0.7615941559557649),\n (337, 0.7615941559557649),\n (338, 0.7615946418368141),\n (339, 0.7615946075948161),\n (340, 0.7615941559557649),\n (341, 0.7615945380975704),\n (342, 0.7615944217937197),\n (343, 0.7615946726043255),\n (344, 0.7615941559557649),\n (345, 0.7615947374551792),\n (346, 0.7615948641487154),\n (347, 0.7615941559557649),\n (348, 0.7615941559557649),\n (349, 0.7615941559557649),\n (350, 0.7615941559557649),\n (351, 0.7615948986637541),\n (352, 0.7615941559557649),\n (353, 0.7615947186331536),\n (354, 0.7615944983862324),\n (355, 0.7615941559557649),\n (356, 0.7615941559557649),\n (357, 0.7615941559557649),\n (358, 0.7615946267377633),\n (359, 0.7615941559557649),\n (360, 0.7615941559557649),\n (361, 0.7615945568034632),\n (362, 0.7615941559557649),\n (363, 0.7615941559557649),\n (364, 0.7615944849339392),\n (365, 0.7615941559557649),\n (366, 0.7615951070864537),\n (367, 0.7615941559557649),\n (368, 0.7615941559557649),\n (369, 0.7615947510309053),\n (370, 0.7615946536875282),\n (371, 0.7615944620919702),\n (372, 0.7615941559557649),\n (373, 0.7615941559557649),\n (374, 0.7615941559557649),\n (375, 0.761594423987052),\n (376, 0.7615944634137949),\n (377, 0.7615951390050119),\n (378, 0.7615946363338677),\n (379, 0.7615941559557649),\n (380, 0.7615946911778186),\n (381, 0.7615947466398857),\n (382, 0.7615941559557649),\n (383, 0.7615941559557649),\n (384, 0.761595289900216),\n (385, 0.7615941559557649),\n (386, 0.7615941559557649),\n (387, 0.7615941559557649),\n (388, 0.7615944734488449),\n (389, 0.7615941559557649),\n (390, 0.7615946166970762),\n (391, 0.7615941559557649),\n (392, 0.7615945852723586),\n (393, 0.7615944923738243),\n (394, 0.7615941559557649),\n (395, 0.7615941559557649),\n (396, 0.7615941559557649),\n (397, 0.7615945406263133),\n (398, 0.7615947788918096),\n (399, 0.7615941559557649),\n (400, 0.7615951006984161),\n (401, 0.7615941559557649),\n (402, 0.7615947870417306),\n (403, 0.7615948322359732),\n (404, 0.7615941559557649),\n (405, 0.7615941559557649),\n (406, 0.7615944160640038),\n (407, 0.7615952084942318),\n (408, 0.7615941559557649),\n (409, 0.7615945712387002),\n (410, 0.761594821680303),\n (411, 0.7615941559557649),\n (412, 0.7615953093881409),\n (413, 0.7615944852878527),\n (414, 0.7615941559557649),\n (415, 0.7615941559557649),\n (416, 0.7615941559557649),\n (417, 0.7615941559557649),\n (418, 0.7615941559557649),\n (419, 0.7615944759601596),\n (420, 0.7615941559557649),\n (421, 0.7615941559557649),\n (422, 0.7615941559557649),\n (423, 0.7615941559557649),\n (424, 0.7615941559557649),\n (425, 0.7615949035607044),\n (426, 0.7615943873884736),\n (427, 0.7615945148462437),\n (428, 0.7615943844225811),\n (429, 0.7615941559557649),\n (430, 0.7615941559557649),\n (431, 0.7615941559557649),\n (432, 0.7615944859343275),\n (433, 0.7615941559557649),\n (434, 0.7615941559557649),\n (435, 0.7615941559557649),\n (436, 0.7615941559557649),\n (437, 0.7615941559557649),\n (438, 0.7615944858135781),\n (439, 0.7615945700094928),\n (440, 0.761596012634931),\n (441, 0.7615946130336286),\n (442, 0.7615945504080059),\n (443, 0.7615944682449579),\n (444, 0.7615941559557649),\n (445, 0.7615945284688267),\n (446, 0.7615945048270569),\n (447, 0.7615944571308362),\n (448, 0.7615941559557649),\n (449, 0.7615941559557649),\n (450, 0.7615944665205379),\n (451, 0.7615941559557649),\n (452, 0.7615941559557649),\n (453, 0.7615941559557649),\n (454, 0.7615941559557649),\n (455, 0.7615941559557649),\n (456, 0.7615944471040681),\n (457, 0.7615941559557649),\n (458, 0.7615941559557649),\n (459, 0.7615941559557649),\n (460, 0.7615941559557649),\n (461, 0.7615941559557649),\n (462, 0.7615941559557649),\n (463, 0.7615941559557649),\n (464, 0.7615941559557649),\n (465, 0.7615946255697571),\n (466, 0.7615941559557649),\n (467, 0.7615944147454233),\n (468, 0.7615941559557649),\n (469, 0.7615950237370914),\n (470, 0.7615941559557649),\n (471, 0.7615941559557649),\n (472, 0.7615941559557649),\n (473, 0.7615945054596225),\n (474, 0.7615941559557649),\n (475, 0.7615941559557649),\n (476, 0.7615941559557649),\n (477, 0.7615941559557649),\n (478, 0.7615941559557649),\n (479, 0.7615941559557649),\n (480, 0.7615941559557649),\n (481, 0.7615941559557649),\n (482, 0.7615941559557649),\n (483, 0.7615941559557649),\n (484, 0.7615941559557649),\n (485, 0.7615945490469762),\n (486, 0.7615941559557649),\n (487, 0.7615941559557649),\n (488, 0.7615943781390653),\n (489, 0.7615941559557649),\n (490, 0.7615941559557649),\n (491, 0.7615941559557649),\n (492, 0.7615941559557649),\n (493, 0.7615944174975927),\n (494, 0.7615941559557649),\n (495, 0.761594737943916),\n (496, 0.7615941559557649),\n (497, 0.7615941559557649),\n (498, 0.7615941559557649),\n (499, 0.761594554820867),\n (500, 0.7615945154816788),\n (501, 0.7615941559557649),\n (502, 0.7615941559557649),\n (503, 0.7615941559557649),\n (504, 0.7616026740918995),\n (505, 0.7615941559557649),\n (506, 0.7615941559557649),\n (507, 0.7615941559557649),\n (508, 0.7615944593001298),\n (509, 0.7615941559557649),\n (510, 0.761594579176577),\n (511, 0.7615941559557649),\n (512, 0.7615941559557649),\n (513, 0.7615941559557649),\n (514, 0.7615944728690304),\n (515, 0.7615947800032659),\n (516, 0.7615941559557649),\n (517, 0.7615941559557649),\n (518, 0.7615941559557649),\n (519, 0.7615941559557649),\n (520, 0.7615941559557649),\n (521, 0.761594850304331),\n (522, 0.7615941559557649),\n (523, 0.7615950640235455),\n (524, 0.7615945719012057),\n (525, 0.7615945035982993),\n (526, 0.7615941559557649),\n (527, 0.7615941559557649),\n (528, 0.7615941559557649),\n (529, 0.7615941559557649),\n (530, 0.7615941559557649),\n (531, 0.7615944600841893),\n (532, 0.7615962125547012),\n (533, 0.7615941559557649),\n (534, 0.7615941559557649),\n (535, 0.7615941559557649),\n (536, 0.7615945984787945),\n (537, 0.7615941559557649),\n (538, 0.7615941559557649),\n (539, 0.7615947082774769),\n (540, 0.7615941559557649),\n (541, 0.7615941559557649),\n (542, 0.7615941559557649),\n (543, 0.7615944443979663),\n (544, 0.7615941559557649),\n (545, 0.7615941559557649),\n (546, 0.7615941559557649),\n (547, 0.7615941559557649),\n (548, 0.7615945106742932),\n (549, 0.7615941559557649),\n (550, 0.7615944892878834),\n (551, 0.7615947041562892),\n (552, 0.7615941559557649),\n (553, 0.7615947826982516),\n (554, 0.7615941559557649),\n (555, 0.7615943895739173),\n (556, 0.7615945718107874),\n (557, 0.7615945098182071),\n (558, 0.7615948802033083),\n (559, 0.7615941559557649),\n (560, 0.7615949861055032),\n (561, 0.7615941559557649),\n (562, 0.7615941559557649),\n (563, 0.7615944841864373),\n (564, 0.7615941559557649),\n (565, 0.7615946883262052),\n (566, 0.7615944806251558),\n (567, 0.7615941559557649),\n (568, 0.7615945539379033),\n (569, 0.7615941559557649),\n (570, 0.7615949612338099),\n (571, 0.7615941559557649),\n (572, 0.7615944512550529),\n (573, 0.7615947233803584),\n (574, 0.7615944573949153),\n (575, 0.7615945260515875),\n (576, 0.7615941559557649),\n (577, 0.7615941559557649),\n (578, 0.7615946565943118),\n (579, 0.7615941559557649),\n (580, 0.7615944821029854),\n (581, 0.7615946096788899),\n (582, 0.7615948971051948),\n (583, 0.7615941559557649),\n (584, 0.7615941559557649),\n (585, 0.7615941559557649),\n (586, 0.7615944553351017),\n (587, 0.7615945043849434),\n (588, 0.7615944851265941),\n (589, 0.7615949063453883),\n (590, 0.7615941559557649),\n (591, 0.7615941559557649),\n (592, 0.7615941559557649),\n (593, 0.7615944862503963),\n (594, 0.7615941559557649),\n (595, 0.7615941559557649),\n (596, 0.7615947238793015),\n (597, 0.7615941559557649),\n (598, 0.7615941559557649),\n (599, 0.7615943664026086),\n (600, 0.7615944455893577),\n (601, 0.761594554339624),\n (602, 0.7615941559557649),\n (603, 0.7615941559557649),\n (604, 0.7615941559557649),\n (605, 0.7615941559557649),\n (606, 0.7615941559557649),\n (607, 0.7615941559557649),\n (608, 0.7615941559557649),\n (609, 0.761594801065697),\n (610, 0.7615941559557649),\n (611, 0.7615944551106382),\n (612, 0.7615941559557649),\n (613, 0.7615941559557649),\n (614, 0.7615941559557649),\n (615, 0.7615941559557649),\n (616, 0.7616049425816053),\n (617, 0.7615941559557649),\n (618, 0.7615941559557649),\n (619, 0.7615941559557649),\n (620, 0.7615941559557649),\n (621, 0.7615941559557649),\n (622, 0.761594974975482),\n (623, 0.7615949186500871),\n (624, 0.7615947197110692),\n (625, 0.7615941559557649),\n (626, 0.7615946063726029),\n (627, 0.7615941559557649),\n (628, 0.7615945488564596),\n (629, 0.7615944591710443),\n (630, 0.7615944738994631),\n (631, 0.7615941559557649),\n (632, 0.7615941559557649),\n (633, 0.7615944523026378),\n (634, 0.7615941559557649),\n (635, 0.7615941559557649),\n (636, 0.7615945402345238),\n (637, 0.7615945936525859),\n (638, 0.7615945956406099),\n (639, 0.7615950865325962),\n (640, 0.7615941559557649),\n (641, 0.7615941559557649),\n (642, 0.7615941559557649),\n (643, 0.7615950637563749),\n (644, 0.7615941559557649),\n (645, 0.7615948325834292),\n (646, 0.7615948511742834),\n (647, 0.7615941559557649),\n (648, 0.7615945501455607),\n (649, 0.7615941559557649),\n (650, 0.7615945200109884),\n (651, 0.7615950314695329),\n (652, 0.7615941559557649),\n (653, 0.7615941559557649),\n (654, 0.7615941559557649),\n (655, 0.7615941559557649),\n (656, 0.7615947270977306),\n (657, 0.7615947870409955),\n (658, 0.7615941559557649),\n (659, 0.7615941559557649),\n (660, 0.7615941559557649),\n (661, 0.7615941559557649),\n (662, 0.7615941559557649),\n (663, 0.7615945852656167),\n (664, 0.7615965905807387),\n (665, 0.7615944681586883),\n (666, 0.7615945616599407),\n (667, 0.7615941559557649),\n (668, 0.7615941559557649),\n (669, 0.761594786997534),\n (670, 0.7615943748033436),\n (671, 0.7615944782539285),\n (672, 0.7615945967975157),\n (673, 0.7615945286685689),\n (674, 0.7615944519327107),\n (675, 0.7615941559557649),\n (676, 0.7615948705977076),\n (677, 0.7615941559557649),\n (678, 0.7615941559557649),\n (679, 0.7615943567686696),\n (680, 0.7615941559557649),\n (681, 0.7615952548563224),\n (682, 0.7615945488421604),\n (683, 0.7615944651453356),\n (684, 0.7615941559557649),\n (685, 0.7615941559557649),\n (686, 0.7615948951193072),\n (687, 0.7615948796193951),\n (688, 0.7615945395961006),\n (689, 0.7615972734701753),\n (690, 0.7615955680962309),\n (691, 0.7615941559557649),\n (692, 0.7615945125196031),\n (693, 0.7615952076243719),\n (694, 0.7615941559557649),\n (695, 0.7615941559557649),\n (696, 0.7615944432632454),\n (697, 0.7615941559557649),\n (698, 0.7615941559557649),\n (699, 0.7615941559557649),\n (700, 0.7615941559557649),\n (701, 0.7615941559557649),\n (702, 0.7615941559557649),\n (703, 0.7615945883949605),\n (704, 0.7615945360558811),\n (705, 0.7615941559557649),\n (706, 0.7615941559557649),\n (707, 0.7615941559557649),\n (708, 0.761594520392997),\n (709, 0.7615941559557649),\n (710, 0.7615944454701831),\n (711, 0.7615941559557649),\n (712, 0.7615941559557649),\n (713, 0.7615941559557649),\n (714, 0.7615941559557649),\n (715, 0.7615945893121687),\n (716, 0.7615948770410679),\n (717, 0.7615950161558392),\n (718, 0.761594868703112),\n (719, 0.7615941559557649),\n (720, 0.7615941559557649),\n (721, 0.7615941559557649),\n (722, 0.7615941559557649),\n (723, 0.7615941559557649),\n (724, 0.761594989649636),\n (725, 0.7615946976515746),\n (726, 0.7615941559557649),\n (727, 0.7615946311620684),\n (728, 0.7615941559557649),\n (729, 0.7615941559557649),\n (730, 0.7615943450495529),\n (731, 0.7615941559557649),\n (732, 0.7615954373114076),\n (733, 0.7615944338888512),\n (734, 0.7615941559557649),\n (735, 0.7615944548958877),\n (736, 0.7615941559557649),\n (737, 0.7615946869853198),\n (738, 0.7615948283585435),\n (739, 0.7615947370389932),\n (740, 0.7615941559557649),\n (741, 0.7615941559557649),\n (742, 0.7615941559557649),\n (743, 0.7615977779985246),\n (744, 0.7615941559557649),\n (745, 0.7615948783544374),\n (746, 0.7615941559557649),\n (747, 0.7615946647687832),\n (748, 0.7615983315054985),\n (749, 0.7615944426329406),\n (750, 0.7615947979853388),\n (751, 0.7615941559557649),\n (752, 0.7615941559557649),\n (753, 0.7615941559557649),\n (754, 0.7615941559557649),\n (755, 0.7615988844630937),\n (756, 0.7615941559557649),\n (757, 0.7615941559557649),\n (758, 0.7615948579944752),\n (759, 0.7615945003223928),\n (760, 0.7615945822092357),\n (761, 0.7615941559557649),\n (762, 0.7615947063531792),\n (763, 0.7615941559557649),\n (764, 0.7615941559557649),\n (765, 0.7615941559557649),\n (766, 0.7615941559557649),\n (767, 0.7615944984585361),\n (768, 0.7615950097184655),\n (769, 0.7615941559557649),\n (770, 0.7615941559557649),\n (771, 0.7615941559557649),\n (772, 0.7615941559557649),\n (773, 0.7615953414758554),\n (774, 0.7615941559557649),\n (775, 0.7615941559557649),\n (776, 0.7615941559557649),\n (777, 0.7615944796286955),\n (778, 0.7615941559557649),\n (779, 0.7615948886479769),\n (780, 0.7615941559557649),\n (781, 0.7615941559557649),\n (782, 0.7615945151760648),\n (783, 0.7615941559557649),\n (784, 0.7615941559557649),\n (785, 0.7615944097472309),\n (786, 0.7615941559557649),\n (787, 0.7615941559557649),\n (788, 0.7615941559557649),\n (789, 0.7615941559557649),\n (790, 0.7615944499942527),\n (791, 0.7615946580304683),\n (792, 0.761594847828772),\n (793, 0.7615945317554051),\n (794, 0.7615947950000217),\n (795, 0.7615941559557649),\n (796, 0.7615941559557649),\n (797, 0.7615973800984267),\n (798, 0.7615941559557649),\n (799, 0.7615941559557649),\n (800, 0.7615941559557649),\n (801, 0.7615941559557649),\n (802, 0.7615950548610859),\n (803, 0.7615941559557649),\n (804, 0.7615941559557649),\n (805, 0.7615941559557649),\n (806, 0.7615944491015423),\n (807, 0.7615941559557649),\n (808, 0.7615947674500658),\n (809, 0.7615941559557649),\n (810, 0.7615941559557649),\n (811, 0.7615948110103488),\n (812, 0.7615948984358097),\n (813, 0.7615944986171863),\n (814, 0.7615941559557649),\n (815, 0.7615949380952999),\n (816, 0.7615944641671039),\n (817, 0.7615947987325469),\n (818, 0.7615941559557649),\n (819, 0.7615962923860016),\n (820, 0.7615945823948613),\n (821, 0.7615941559557649),\n (822, 0.7615944458464488),\n (823, 0.7615941559557649),\n (824, 0.7615947599935047),\n (825, 0.7615941559557649),\n (826, 0.7615941559557649),\n (827, 0.7615962372206576),\n (828, 0.7615941559557649),\n (829, 0.761594493843898),\n (830, 0.7615945920764319),\n (831, 0.7615941559557649),\n (832, 0.7615944907785251),\n (833, 0.7615941559557649),\n (834, 0.7615941559557649),\n (835, 0.7615948601029534),\n (836, 0.7615941559557649),\n (837, 0.7615941559557649),\n (838, 0.7615941559557649),\n (839, 0.7615941559557649),\n (840, 0.7615941559557649),\n (841, 0.7615944684879749),\n (842, 0.7615941559557649),\n (843, 0.7615941559557649),\n (844, 0.7615941559557649),\n (845, 0.7615943683299018),\n (846, 0.7615944125661712),\n (847, 0.7615941559557649),\n (848, 0.7615944059161248),\n (849, 0.7615941559557649),\n (850, 0.7615941559557649),\n (851, 0.7615941559557649),\n (852, 0.7615941559557649),\n (853, 0.7615951359464685),\n (854, 0.7615945428673058),\n (855, 0.7615941559557649),\n (856, 0.7615941559557649),\n (857, 0.7615947176745154),\n (858, 0.7615941559557649),\n (859, 0.7615945118737357),\n (860, 0.7615948868244252),\n (861, 0.761594697357097),\n (862, 0.7615946295662206),\n (863, 0.7615941559557649),\n (864, 0.7615941559557649),\n (865, 0.7615941559557649),\n (866, 0.7616015220026717),\n (867, 0.7615941559557649),\n (868, 0.761594813177721),\n (869, 0.7616025716622128),\n (870, 0.7615944873375297),\n (871, 0.7615945276335774),\n (872, 0.7615945926491678),\n (873, 0.7615944511306607),\n (874, 0.7615944339676083),\n (875, 0.7615945521490451),\n (876, 0.7615949376834373),\n (877, 0.7615941559557649),\n (878, 0.7615945647842957),\n (879, 0.7615947032461758),\n (880, 0.7615941559557649),\n (881, 0.7615941559557649),\n (882, 0.7615941559557649),\n (883, 0.7615941559557649),\n (884, 0.7615945684554751),\n (885, 0.7615961807930184),\n (886, 0.7615948002121546),\n (887, 0.761594660468689),\n (888, 0.7615947248671626),\n (889, 0.7615941559557649),\n (890, 0.7615941559557649),\n (891, 0.7615941559557649),\n (892, 0.7615941559557649),\n (893, 0.7615944339193876),\n (894, 0.7615941559557649),\n (895, 0.7615941559557649),\n (896, 0.7615947679723191),\n (897, 0.7615941559557649),\n (898, 0.7615944714996795),\n (899, 0.7615941559557649),\n (900, 0.7615946376583239),\n (901, 0.7615948420083125),\n (902, 0.7615944825950388),\n (903, 0.7615941559557649),\n (904, 0.7615941559557649),\n (905, 0.7615945485832991),\n (906, 0.7615951170962635),\n (907, 0.7615941559557649),\n (908, 0.7615941559557649),\n (909, 0.7615941559557649),\n (910, 0.7615941559557649),\n (911, 0.7615941559557649),\n (912, 0.7615941559557649),\n (913, 0.7615941559557649),\n (914, 0.7615941559557649),\n (915, 0.7615944653436266),\n (916, 0.7615945729637545),\n (917, 0.7615941559557649),\n (918, 0.7615941559557649),\n (919, 0.7615948141555904),\n (920, 0.7615941559557649),\n (921, 0.7615941559557649),\n (922, 0.7615946780645038),\n (923, 0.7615944590806237),\n (924, 0.7615948307574014),\n (925, 0.761594388717654),\n (926, 0.7615941559557649),\n (927, 0.7615941559557649),\n (928, 0.7615947167294824),\n (929, 0.7615941559557649),\n (930, 0.761594458432149),\n (931, 0.7615941559557649),\n (932, 0.7615941559557649),\n (933, 0.7615948985673267),\n (934, 0.7615941559557649),\n (935, 0.7615941559557649),\n (936, 0.761594647395057),\n (937, 0.7615941559557649),\n (938, 0.7615941559557649),\n (939, 0.7615941559557649),\n (940, 0.7615941559557649),\n (941, 0.7615947477841415),\n (942, 0.7615941559557649),\n (943, 0.7615949977232546),\n (944, 0.7615941559557649),\n (945, 0.7615941559557649),\n (946, 0.7615941559557649),\n (947, 0.7615952628631412),\n (948, 0.7615941559557649),\n (949, 0.7615943998456952),\n (950, 0.7615950313486126),\n (951, 0.7615941559557649),\n (952, 0.7615948975576103),\n (953, 0.7615941559557649),\n (954, 0.7615953270308564),\n (955, 0.7615941559557649),\n (956, 0.7615945109042757),\n (957, 0.7615946115013787),\n (958, 0.7615945094490599),\n (959, 0.7615948183051886),\n (960, 0.7615941559557649),\n (961, 0.7615941559557649),\n (962, 0.7615949859107266),\n (963, 0.7615941559557649),\n (964, 0.7615941559557649),\n (965, 0.761594499701759),\n (966, 0.7615945774881479),\n (967, 0.7615941559557649),\n (968, 0.7615941559557649),\n (969, 0.7615941559557649),\n (970, 0.7615941559557649),\n (971, 0.7615983712016744),\n (972, 0.7615945800596379),\n (973, 0.7615941559557649),\n (974, 0.7615941559557649),\n (975, 0.7615945045277372),\n (976, 0.7615941559557649),\n (977, 0.7615941559557649),\n (978, 0.7615944954042092),\n (979, 0.7615941559557649),\n (980, 0.7615941559557649),\n (981, 0.7615941559557649),\n (982, 0.7615945898955873),\n (983, 0.7615941559557649),\n (984, 0.7615941559557649),\n (985, 0.7615948499642861),\n (986, 0.7615947200930766),\n (987, 0.761594496304814),\n (988, 0.7615941559557649),\n (989, 0.7615947093240593),\n (990, 0.7615941559557649),\n (991, 0.7615948216599582),\n (992, 0.7615941559557649),\n (993, 0.7615941559557649),\n (994, 0.7615947859924983),\n (995, 0.7615944876005666),\n (996, 0.7615948216900845),\n (997, 0.7615941559557649),\n (998, 0.7615946356717551),\n (999, 0.7615941559557649),\n ...]"
     },
     "metadata": {},
     "output_type": "execute_result",
     "execution_count": 20
    }
   ],
   "source": [
    "list(enumerate(sig[indices['Newlyweds']]))"
   ]
  },
  {
   "cell_type": "code",
   "execution_count": 21,
   "metadata": {
    "pycharm": {
     "is_executing": false
    }
   },
   "outputs": [
    {
     "data": {
      "text/plain": "[(4799, 0.7616494757038861),\n (616, 0.7616049425816053),\n (2689, 0.7616048642742375),\n (3969, 0.761604751101525),\n (1576, 0.7616041713788066),\n (2290, 0.7616035230733695),\n (504, 0.7616026740918995),\n (869, 0.7616025716622128),\n (866, 0.7616015220026717),\n (4576, 0.7616014309851531),\n (242, 0.7616010634140858),\n (2962, 0.7616009635635577),\n (2869, 0.761600861428926),\n (3155, 0.761600846223451),\n (1223, 0.7616007363761209),\n (3479, 0.7616007345970527),\n (4641, 0.7616005695658878),\n (1071, 0.7616005274243318),\n (3393, 0.7616004987045509),\n (2688, 0.7616002862001174),\n (3559, 0.7616002128544281),\n (4616, 0.7615999556159838),\n (1856, 0.7615997033915411),\n (1970, 0.761599656910093),\n (4591, 0.7615996326909913),\n (1385, 0.7615995458699192),\n (3583, 0.7615993920938995),\n (1110, 0.7615991557503975),\n (237, 0.7615991491615768),\n (3638, 0.7615990995095694),\n (4584, 0.7615990609755401),\n (755, 0.7615988844630937),\n (1472, 0.7615988822943189),\n (3309, 0.7615987311105584),\n (3253, 0.761598729556898),\n (1949, 0.7615986551238126),\n (1364, 0.761598570593904),\n (4085, 0.7615985612376476),\n (3005, 0.7615985464261982),\n (1240, 0.7615985280030202),\n (3610, 0.7615985056140209),\n (2531, 0.7615984520599907),\n (1363, 0.7615984368386484),\n (4207, 0.7615984192592017),\n (971, 0.7615983712016744),\n (4733, 0.7615983648940998),\n (748, 0.7615983315054985),\n (2795, 0.7615982887157104),\n (3771, 0.7615982759185551),\n (4690, 0.761598252900609),\n (1311, 0.7615981998707371),\n (4467, 0.761598119019552),\n (4440, 0.761598080513768),\n (2312, 0.7615980550770075),\n (2124, 0.7615980101340021),\n (1032, 0.7615980047253925),\n (1504, 0.7615979722899693),\n (3927, 0.7615979515209673),\n (2133, 0.761597894372387),\n (4132, 0.7615978919812909),\n (1267, 0.7615978858255383),\n (3175, 0.7615978846297717),\n (3272, 0.7615978664048266),\n (2890, 0.7615978585649558),\n (1159, 0.7615978523191487),\n (4209, 0.7615978301468469),\n (3083, 0.7615977977094406),\n (3308, 0.7615977789924797),\n (743, 0.7615977779985246),\n (2134, 0.7615976327704543),\n (1559, 0.7615975753418562),\n (3016, 0.7615975503674985),\n (1050, 0.7615975395489248),\n (4005, 0.7615975106210954),\n (1654, 0.7615974629641001),\n (1206, 0.7615974270469451),\n (1579, 0.7615974127854123),\n (4452, 0.7615974016257616),\n (2101, 0.7615973916918628),\n (797, 0.7615973800984267),\n (4730, 0.761597375360594),\n (2632, 0.7615973176930149),\n (1571, 0.7615973081245186),\n (689, 0.7615972734701753),\n (2997, 0.761597248191642),\n (3145, 0.7615971936680245),\n (1237, 0.761597172186537),\n (1216, 0.76159716509975),\n (2379, 0.761597141023135),\n (259, 0.7615970931473258),\n (2063, 0.761597089394646),\n (1562, 0.7615970892097068),\n (4196, 0.7615970889664502),\n (4658, 0.7615970816942346),\n (3266, 0.761597063128452),\n (4334, 0.7615970624677698),\n (3877, 0.7615970527245259),\n (1964, 0.7615970465862817),\n (4577, 0.7615970293729639),\n (1493, 0.761597022209659),\n (2806, 0.7615970092317585),\n (1081, 0.7615969932665656),\n (3892, 0.7615969087085805),\n (3544, 0.7615968881945947),\n (2480, 0.761596878495872),\n (3653, 0.7615968597664479),\n (2120, 0.7615968466248295),\n (2089, 0.7615968291603286),\n (227, 0.7615967816391047),\n (2565, 0.7615967565807338),\n (3246, 0.7615967411151761),\n (2530, 0.7615967294444677),\n (3652, 0.7615967275873157),\n (1362, 0.7615966962486419),\n (3210, 0.761596678325982),\n (1632, 0.761596675379219),\n (3980, 0.7615966726406136),\n (3110, 0.7615966497189343),\n (3641, 0.7615966435754444),\n (3846, 0.7615966246061789),\n (1157, 0.7615966144460581),\n (664, 0.7615965905807387),\n (4788, 0.7615965889039487),\n (3270, 0.761596521481913),\n (3753, 0.7615965192733954),\n (4718, 0.761596518686591),\n (3636, 0.7615964674661879),\n (2445, 0.7615964542949991),\n (1630, 0.7615964520706268),\n (2586, 0.7615964238484194),\n (4586, 0.7615963698394468),\n (4447, 0.7615963531201075),\n (819, 0.7615962923860016),\n (2559, 0.7615962858906509),\n (2319, 0.7615962742117208),\n (258, 0.7615962551703263),\n (827, 0.7615962372206576),\n (4667, 0.761596235540586),\n (2836, 0.7615962192267349),\n (532, 0.7615962125547012),\n (1534, 0.7615961931341042),\n (885, 0.7615961807930184),\n (4486, 0.7615961393184254),\n (3418, 0.7615961383795128),\n (2521, 0.7615960999221857),\n (2065, 0.761596082081615),\n (4150, 0.7615960375706893),\n (3766, 0.7615960279122712),\n (440, 0.761596012634931),\n (3808, 0.7615959330596317),\n (4786, 0.7615959081324972),\n (1841, 0.7615958894052931),\n (2414, 0.7615958881008742),\n (4568, 0.761595887214422),\n (4389, 0.7615958661263666),\n (2423, 0.7615958170490393),\n (3945, 0.7615958045996145),\n (155, 0.7615958030375678),\n (3415, 0.7615957933950394),\n (1543, 0.7615957841176885),\n (1555, 0.7615957803768688),\n (17, 0.7615957702611595),\n (2896, 0.7615957664767289),\n (3661, 0.7615957550618724),\n (2564, 0.7615956696632139),\n (3805, 0.7615956635232504),\n (3520, 0.761595662145513),\n (3407, 0.7615956465264951),\n (1902, 0.7615956388414371),\n (21, 0.7615956261867035),\n (3235, 0.7615955947097558),\n (4287, 0.7615955866733617),\n (3218, 0.761595586030044),\n (690, 0.7615955680962309),\n (3575, 0.7615955580186347),\n (4514, 0.7615955499627879),\n (3561, 0.7615955293498462),\n (1542, 0.7615955250139905),\n (3044, 0.7615955011605452),\n (1679, 0.7615954907400269),\n (4686, 0.7615954894401337),\n (2344, 0.7615954818113553),\n (1400, 0.761595478162896),\n (2464, 0.7615954750120955),\n (4578, 0.7615954747441865),\n (2867, 0.7615954713882331),\n (286, 0.7615954546187496),\n (732, 0.7615954373114076),\n (2129, 0.7615954270757294),\n (3620, 0.7615954170780403),\n (170, 0.7615954147714842),\n (197, 0.7615954144785959),\n (3475, 0.7615954059293819),\n (1976, 0.7615953994072648),\n (2256, 0.7615953945244149),\n (3237, 0.7615953821788005),\n (2637, 0.7615953774629705),\n (2288, 0.7615953765721668),\n (3901, 0.7615953762369966),\n (4322, 0.7615953654126452),\n (4784, 0.7615953645851908),\n (4543, 0.7615953609583606),\n (3922, 0.7615953594188976),\n (3177, 0.7615953508468178),\n (773, 0.7615953414758554),\n (1475, 0.7615953311678134),\n (954, 0.7615953270308564),\n (4643, 0.761595324763896),\n (2687, 0.7615953238237442),\n (2941, 0.7615953225103996),\n (4413, 0.7615953195560516),\n (4449, 0.761595317770581),\n (3481, 0.7615953153349866),\n (412, 0.7615953093881409),\n (6, 0.7615953080378194),\n (4802, 0.7615952948564079),\n (4013, 0.7615952931465877),\n (4438, 0.7615952908011768),\n (384, 0.761595289900216),\n (2716, 0.7615952860240361),\n (3423, 0.761595285118388),\n (4028, 0.7615952778414595),\n (1927, 0.7615952763741535),\n (2441, 0.7615952760680403),\n (4675, 0.761595265252826),\n (115, 0.7615952643691687),\n (947, 0.7615952628631412),\n (681, 0.7615952548563224),\n (289, 0.761595251180798),\n (1342, 0.7615952479660922),\n (2830, 0.7615952469527665),\n (2871, 0.7615952456972986),\n (1575, 0.7615952453154166),\n (2598, 0.7615952441145754),\n (3252, 0.7615952416199943),\n (2829, 0.7615952407456825),\n (1865, 0.7615952402113295),\n (2099, 0.7615952323780528),\n (2121, 0.7615952303423164),\n (2661, 0.7615952302183164),\n (1155, 0.7615952250203887),\n (1830, 0.7615952235746359),\n (3278, 0.7615952232343801),\n (3765, 0.7615952218091555),\n (1293, 0.7615952177387106),\n (407, 0.7615952084942318),\n (693, 0.7615952076243719),\n (1471, 0.7615952063352806),\n (4455, 0.7615952003210844),\n (1780, 0.7615951987925373),\n (1230, 0.7615951962350856),\n (4201, 0.7615951953948633),\n (1043, 0.7615951950377352),\n (3347, 0.7615951926735831),\n (1345, 0.7615951871711777),\n (2484, 0.7615951858036494),\n (1974, 0.761595184014287),\n (1733, 0.7615951813745034),\n (4699, 0.7615951758029981),\n (4076, 0.7615951744916807),\n (3819, 0.7615951711898006),\n (4580, 0.7615951619404169),\n (1058, 0.7615951596908721),\n (292, 0.7615951596007983),\n (4572, 0.7615951569870996),\n (4795, 0.7615951565187061),\n (4380, 0.7615951531916286),\n (1906, 0.7615951488836105),\n (260, 0.7615951439404736),\n (1581, 0.7615951393998045),\n (377, 0.7615951390050119),\n (4558, 0.761595138357538),\n (1789, 0.7615951359476484),\n (853, 0.7615951359464685),\n (3795, 0.7615951311762167),\n (9, 0.761595127972932),\n (1800, 0.7615951263361834),\n (1506, 0.7615951253606258),\n (2110, 0.7615951240748269),\n (2952, 0.7615951221242843),\n (2234, 0.7615951209897586),\n (1641, 0.7615951189051297),\n (906, 0.7615951170962635),\n (1846, 0.7615951166984476),\n (1445, 0.7615951153533381),\n (81, 0.7615951146176899),\n (3497, 0.7615951141887063),\n (1502, 0.7615951136459946),\n (3975, 0.761595113078583),\n (1092, 0.7615951112463634),\n (1063, 0.7615951111225439),\n (1064, 0.761595107560254),\n (366, 0.7615951070864537),\n (4349, 0.7615951029859066),\n (59, 0.7615951028770029),\n (3655, 0.7615951016762988),\n (1589, 0.7615951010567377),\n (400, 0.7615951006984161),\n (3723, 0.7615951000140818),\n (2588, 0.761595099556651),\n (1690, 0.7615950989763097),\n (2833, 0.7615950983709586),\n (280, 0.7615950975506258),\n (2126, 0.7615950927527273),\n (1108, 0.761595088957433),\n (639, 0.7615950865325962),\n (2888, 0.7615950863754893),\n (4326, 0.7615950860700225),\n (1000, 0.7615950851607157),\n (1451, 0.7615950848041806),\n (4593, 0.7615950832518188),\n (3436, 0.7615950827967051),\n (3886, 0.7615950822752964),\n (4507, 0.76159508173137),\n (1162, 0.761595077430481),\n (4341, 0.7615950748104754),\n (2525, 0.7615950739730284),\n (2903, 0.7615950739665702),\n (2191, 0.7615950723678804),\n (3254, 0.7615950709478136),\n (2610, 0.7615950702906058),\n (523, 0.7615950640235455),\n (643, 0.7615950637563749),\n (4706, 0.7615950618845824),\n (4175, 0.7615950589679243),\n (2758, 0.7615950566633142),\n (1825, 0.7615950551901141),\n (3895, 0.7615950551896766),\n (802, 0.7615950548610859),\n (1972, 0.7615950537641474),\n (1494, 0.7615950523390864),\n (1634, 0.7615950512077251),\n (2192, 0.761595050609775),\n (4506, 0.7615950485876023),\n (3474, 0.7615950479954683),\n (1347, 0.7615950451701068),\n (3152, 0.7615950450612403),\n (3816, 0.7615950450315145),\n (1334, 0.7615950442406506),\n (1473, 0.7615950424141698),\n (3685, 0.7615950409877895),\n (3759, 0.7615950400891001),\n (2153, 0.7615950400882658),\n (3500, 0.7615950391383899),\n (3579, 0.761595038330192),\n (2321, 0.7615950361664661),\n (2877, 0.7615950353499905),\n (1755, 0.7615950350162386),\n (4178, 0.7615950332555231),\n (3483, 0.7615950332436117),\n (651, 0.7615950314695329),\n (950, 0.7615950313486126),\n (4642, 0.7615950297564151),\n (4162, 0.761595027722205),\n (3376, 0.7615950271667918),\n (469, 0.7615950237370914),\n (93, 0.7615950231323207),\n (2628, 0.7615950206153366),\n (4671, 0.7615950200858532),\n (3193, 0.7615950200223224),\n (3837, 0.7615950188480669),\n (2710, 0.7615950177729265),\n (717, 0.7615950161558392),\n (3933, 0.7615950141072949),\n (2412, 0.7615950121393691),\n (3166, 0.7615950111472602),\n (261, 0.76159501005776),\n (768, 0.7615950097184655),\n (2894, 0.7615950085162859),\n (2821, 0.7615950077697236),\n (4766, 0.7615950049038545),\n (1908, 0.761595003592584),\n (2676, 0.7615950021176001),\n (1483, 0.7615950016970104),\n (2292, 0.7615950001240239),\n (1600, 0.7615949981071598),\n (1716, 0.7615949978808663),\n (3600, 0.7615949978385154),\n (943, 0.7615949977232546),\n (1778, 0.7615949964709353),\n (4659, 0.7615949938517041),\n (1940, 0.7615949909487105),\n (3172, 0.7615949903609374),\n (724, 0.761594989649636),\n (4461, 0.7615949870433077),\n (2512, 0.7615949866719204),\n (560, 0.7615949861055032),\n (962, 0.7615949859107266),\n (96, 0.7615949856925486),\n (4767, 0.7615949847867219),\n (2199, 0.7615949836959028),\n (1508, 0.7615949835314841),\n (2603, 0.7615949827693757),\n (2994, 0.7615949823132772),\n (4656, 0.7615949803721729),\n (329, 0.761594980032754),\n (3365, 0.7615949780123437),\n (1239, 0.7615949755226045),\n (193, 0.7615949752683895),\n (622, 0.761594974975482),\n (4107, 0.7615949733675473),\n (49, 0.7615949729569567),\n (2210, 0.7615949723514044),\n (1005, 0.7615949684368004),\n (4130, 0.7615949670916814),\n (2684, 0.7615949666642048),\n (2201, 0.7615949664207086),\n (4763, 0.7615949664022322),\n (2393, 0.7615949640216699),\n (2747, 0.7615949618565342),\n (4502, 0.7615949612504769),\n (570, 0.7615949612338099),\n (1329, 0.7615949611363492),\n (3569, 0.7615949590854079),\n (4167, 0.7615949576974865),\n (4025, 0.7615949553970879),\n (4644, 0.7615949553207351),\n (2161, 0.7615949513107267),\n (4680, 0.7615949410770742),\n (1303, 0.7615949410423369),\n (815, 0.7615949380952999),\n (876, 0.7615949376834373),\n (2618, 0.7615949371913198),\n (4512, 0.7615949370532835),\n (1338, 0.7615949365112946),\n (2973, 0.761594935386964),\n (3338, 0.7615949350474644),\n (2571, 0.7615949330472681),\n (4281, 0.7615949304665581),\n (2386, 0.7615949280555651),\n (1889, 0.7615949211334148),\n (4044, 0.76159492083461),\n (302, 0.7615949196112328),\n (623, 0.7615949186500871),\n (2754, 0.761594917436792),\n (1346, 0.7615949157534684),\n (4783, 0.7615949140136318),\n (2885, 0.7615949139636035),\n (4208, 0.7615949130165582),\n (1322, 0.761594911539594),\n (4119, 0.7615949108332273),\n (130, 0.7615949105073745),\n (3375, 0.7615949099215441),\n (150, 0.7615949091983534),\n (4227, 0.7615949086412508),\n (1731, 0.761594907161701),\n (1845, 0.7615949069052279),\n (3216, 0.7615949066684141),\n (589, 0.7615949063453883),\n (2622, 0.7615949057141457),\n (3, 0.7615949049141019),\n (328, 0.7615949043463515),\n (284, 0.7615949042667243),\n (425, 0.7615949035607044),\n (2479, 0.761594902904315),\n (3015, 0.7615949015053581),\n (1912, 0.7615949003892869),\n (351, 0.7615948986637541),\n (2135, 0.7615948986627856),\n (933, 0.7615948985673267),\n (812, 0.7615948984358097),\n (1907, 0.7615948984112955),\n (1391, 0.7615948984100577),\n (952, 0.7615948975576103),\n (3828, 0.7615948974143295),\n (4397, 0.7615948973835936),\n (582, 0.7615948971051948),\n (1541, 0.7615948971020828),\n (124, 0.7615948963637807),\n (686, 0.7615948951193072),\n (2928, 0.7615948942488148),\n (4751, 0.7615948931229242),\n (4232, 0.7615948926788279),\n (4430, 0.7615948923549002),\n (2907, 0.7615948915173467),\n (2784, 0.7615948906906251),\n (2377, 0.7615948887243084),\n (779, 0.7615948886479769),\n (3428, 0.7615948871916057),\n (4694, 0.7615948869543764),\n (860, 0.7615948868244252),\n (1499, 0.7615948866261205),\n (1914, 0.7615948860338649),\n (2546, 0.7615948822767096),\n (3049, 0.7615948820912608),\n (4717, 0.7615948817093529),\n (1087, 0.7615948814153495),\n (2023, 0.7615948808814685),\n (3979, 0.7615948806992309),\n (558, 0.7615948802033083),\n (4703, 0.7615948801062604),\n (687, 0.7615948796193951),\n (3464, 0.7615948786387736),\n (745, 0.7615948783544374),\n (4, 0.7615948772592205),\n (716, 0.7615948770410679),\n (1389, 0.761594876010372),\n (3126, 0.7615948759423894),\n (2501, 0.7615948737448713),\n (4775, 0.7615948735232712),\n (1833, 0.7615948710757854),\n (3791, 0.7615948706324838),\n (2922, 0.7615948706138492),\n (676, 0.7615948705977076),\n (718, 0.761594868703112),\n (1101, 0.7615948677524251),\n (314, 0.7615948661882701),\n (310, 0.7615948661485812),\n (4059, 0.7615948648143137),\n (4089, 0.7615948645625406),\n (4022, 0.7615948641708784),\n (346, 0.7615948641487154),\n (2255, 0.7615948627239967),\n (3695, 0.7615948621560529),\n (3196, 0.761594861886047),\n (3003, 0.7615948610771448),\n (2715, 0.7615948606547132),\n (835, 0.7615948601029534),\n (4164, 0.761594859116288),\n (2727, 0.7615948585998572),\n (4540, 0.7615948581987393),\n (758, 0.7615948579944752),\n (3017, 0.7615948578265234),\n (2570, 0.7615948577973679),\n (4202, 0.7615948572629809),\n (164, 0.7615948571299513),\n (2078, 0.7615948552009231),\n (3140, 0.7615948530165529),\n (646, 0.7615948511742834),\n (2989, 0.7615948509125883),\n (2388, 0.7615948503229524),\n (521, 0.761594850304331),\n (985, 0.7615948499642861),\n (4263, 0.7615948480244552),\n (792, 0.761594847828772),\n (4336, 0.7615948477411846),\n (2648, 0.7615948475294329),\n (3864, 0.7615948468518616),\n (3054, 0.7615948466642789),\n (4612, 0.7615948461126502),\n (1527, 0.7615948460699835),\n (3414, 0.7615948453661068),\n (1629, 0.7615948447004757),\n (1796, 0.7615948438450582),\n (3068, 0.7615948437228006),\n (4198, 0.7615948426744313),\n (3493, 0.7615948426269665),\n (901, 0.7615948420083125),\n (3243, 0.7615948419222689),\n (2714, 0.761594841847074),\n (3402, 0.7615948416231072),\n (1351, 0.7615948412796836),\n (2960, 0.7615948405853994),\n (2513, 0.7615948392896542),\n (3932, 0.7615948391279148),\n (2380, 0.7615948377550674),\n (2857, 0.7615948376059245),\n (4695, 0.761594837471816),\n (3116, 0.7615948373704765),\n (1429, 0.7615948357624593),\n (2667, 0.7615948351890701),\n (1003, 0.761594835107031),\n (2753, 0.7615948348242995),\n (2777, 0.7615948341985035),\n (3534, 0.7615948340164584),\n (3576, 0.7615948333279924),\n (4622, 0.7615948329874018),\n (645, 0.7615948325834292),\n (403, 0.7615948322359732),\n (2775, 0.7615948314892105),\n (924, 0.7615948307574014),\n (3941, 0.7615948291395545),\n (3874, 0.7615948285704803),\n (738, 0.7615948283585435),\n (2749, 0.7615948280364039),\n (1979, 0.7615948277873095),\n (2408, 0.7615948276059888),\n (1773, 0.7615948272901562),\n (3868, 0.7615948263306892),\n (2273, 0.7615948252528283),\n (3585, 0.7615948241476405),\n (2770, 0.761594823467126),\n (4063, 0.761594823265962),\n (996, 0.7615948216900845),\n (410, 0.761594821680303),\n (991, 0.7615948216599582),\n (2816, 0.7615948215582935),\n (3398, 0.7615948212798923),\n (4727, 0.7615948201567145),\n (1411, 0.7615948196293616),\n (1644, 0.7615948192610652),\n (2007, 0.7615948192522626),\n (1546, 0.7615948189550167),\n (199, 0.7615948183097385),\n (959, 0.7615948183051886),\n (2798, 0.7615948180882126),\n (3346, 0.7615948178393762),\n (3731, 0.7615948161868122),\n (4277, 0.7615948155870542),\n (2382, 0.7615948147335961),\n (919, 0.7615948141555904),\n (1358, 0.7615948141422759),\n (4239, 0.7615948140401321),\n (1276, 0.7615948136488954),\n (868, 0.761594813177721),\n (4626, 0.761594812856792),\n (2144, 0.7615948127901542),\n (4047, 0.7615948127719651),\n (4407, 0.7615948125755216),\n (1798, 0.7615948112723906),\n (4235, 0.7615948112182525),\n (811, 0.7615948110103488),\n (1022, 0.7615948109963575),\n (1020, 0.7615948103977523),\n (3591, 0.7615948100171714),\n (1184, 0.7615948093575832),\n (2291, 0.7615948092458721),\n (1072, 0.761594809227149),\n (1170, 0.7615948088569217),\n (169, 0.7615948080169639),\n (1331, 0.7615948079715849),\n (1151, 0.7615948078098647),\n (3535, 0.7615948071512904),\n (3797, 0.7615948068157854),\n (1038, 0.761594806602293),\n (3869, 0.7615948060917441),\n (2086, 0.7615948058057809),\n (3028, 0.7615948056892454),\n (2049, 0.7615948051279603),\n (303, 0.76159480476514),\n (2657, 0.7615948044189844),\n (1009, 0.7615948040518503),\n (1210, 0.7615948014770603),\n (609, 0.761594801065697),\n (2338, 0.7615948007059896),\n (886, 0.7615948002121546),\n (3691, 0.761594798743153),\n (817, 0.7615947987325469),\n (2696, 0.7615947987098624),\n (750, 0.7615947979853388),\n (2239, 0.761594796854091),\n (2984, 0.7615947964579299),\n (1018, 0.7615947964196429),\n (1548, 0.7615947960114893),\n (1122, 0.761594795388042),\n (4432, 0.7615947953239561),\n (794, 0.7615947950000217),\n (4319, 0.7615947945500371),\n (3642, 0.7615947939130636),\n (4024, 0.7615947938112277),\n (2820, 0.7615947930121822),\n (1563, 0.761594792881118),\n (1965, 0.7615947924053545),\n (99, 0.7615947917259301),\n (1224, 0.7615947915343586),\n (3030, 0.7615947912770673),\n (2510, 0.7615947912012131),\n (1360, 0.7615947910044791),\n (2263, 0.7615947903413077),\n (2064, 0.7615947901334706),\n (1282, 0.7615947892028825),\n (2116, 0.7615947891195846),\n (4426, 0.7615947883349155),\n (3197, 0.761594788189063),\n (4372, 0.7615947874259539),\n (402, 0.7615947870417306),\n (657, 0.7615947870409955),\n (669, 0.761594786997534),\n (4009, 0.7615947861142229),\n (994, 0.7615947859924983),\n (1664, 0.7615947858066996),\n (1461, 0.7615947854125603),\n (2852, 0.7615947853728169),\n (2919, 0.7615947843046649),\n (3540, 0.7615947841291777),\n (2329, 0.7615947840031817),\n (3102, 0.7615947838432704),\n (1685, 0.7615947838286509),\n (4313, 0.7615947836038712),\n (2122, 0.7615947833772017),\n (2889, 0.7615947831939857),\n (4491, 0.7615947830007002),\n (553, 0.7615947826982516),\n (2978, 0.7615947825692444),\n (1863, 0.7615947822151381),\n (515, 0.7615947800032659),\n (3838, 0.7615947789046124),\n (398, 0.7615947788918096),\n (1997, 0.7615947782521488),\n (3555, 0.7615947782461723),\n (3562, 0.7615947780770307),\n (2807, 0.7615947777894946),\n (3264, 0.7615947773062919),\n (1440, 0.7615947759139583),\n (1181, 0.7615947742104714),\n (53, 0.7615947725068822),\n (3900, 0.7615947722047754),\n (4090, 0.7615947719350373),\n (3181, 0.7615947710729776),\n (140, 0.7615947709936929),\n (4062, 0.7615947708371281),\n (4674, 0.7615947707687686),\n (3424, 0.761594770143615),\n (3741, 0.7615947686648253),\n (896, 0.7615947679723191),\n (808, 0.7615947674500658),\n (3742, 0.7615947671406267),\n (1585, 0.7615947661191045),\n (3787, 0.7615947655698754),\n (4780, 0.7615947648808901),\n (4296, 0.761594764833521),\n (3574, 0.7615947646742832),\n (4564, 0.7615947643418414),\n (1304, 0.7615947640612176),\n (2223, 0.7615947636464862),\n (1114, 0.7615947624970281),\n (3879, 0.7615947620018121),\n (4446, 0.761594761622127),\n (1924, 0.7615947610399659),\n (4247, 0.761594761020665),\n (2367, 0.7615947608844411),\n (824, 0.7615947599935047),\n (3577, 0.7615947594820454),\n (1618, 0.7615947590186523),\n (1767, 0.7615947582883684),\n (3665, 0.7615947577429627),\n (2551, 0.7615947570106494),\n (1742, 0.7615947565516501),\n (3396, 0.7615947558316286),\n (58, 0.7615947551559061),\n (1910, 0.7615947549359139),\n (1839, 0.7615947543113648),\n (2543, 0.7615947542821857),\n (4385, 0.761594754043823),\n (1973, 0.7615947539871827),\n (4611, 0.7615947533248113),\n (3378, 0.7615947522345223),\n (4015, 0.7615947512850014),\n (369, 0.7615947510309053),\n (1500, 0.761594750805994),\n (3332, 0.7615947507434737),\n (1932, 0.7615947501806558),\n (3182, 0.7615947495708131),\n (3377, 0.7615947488011545),\n (1637, 0.7615947483549775),\n (2048, 0.761594748109244),\n (2516, 0.7615947479787084),\n (941, 0.7615947477841415),\n (4124, 0.7615947472967628),\n (381, 0.7615947466398857),\n (4290, 0.7615947465623043),\n (2851, 0.7615947462630936),\n (4280, 0.7615947456349745),\n (4441, 0.761594744249853),\n (1623, 0.7615947441781749),\n (2230, 0.7615947437637942),\n (3096, 0.7615947429216758),\n (1103, 0.7615947422651899),\n (1418, 0.7615947419284491),\n (1549, 0.7615947415325117),\n (3267, 0.7615947415055833),\n (1426, 0.7615947413610312),\n (2020, 0.761594741235408),\n (3549, 0.7615947393821064),\n (4670, 0.7615947392573745),\n (2959, 0.7615947389517801),\n (4371, 0.7615947381932163),\n (495, 0.761594737943916),\n (345, 0.7615947374551792),\n (739, 0.7615947370389932),\n (3113, 0.7615947368664984),\n (2032, 0.7615947366835387),\n (3074, 0.7615947363267316),\n (3042, 0.7615947355613737),\n (3724, 0.7615947333927868),\n (4761, 0.7615947329577001),\n (2316, 0.7615947329331901),\n (1343, 0.7615947324166431),\n (4297, 0.761594732141595),\n (1674, 0.7615947321232355),\n (3311, 0.7615947287717533),\n (19, 0.7615947284704833),\n (1340, 0.7615947280643802),\n (4011, 0.7615947271826463),\n (656, 0.7615947270977306),\n (3584, 0.7615947268048227),\n (3582, 0.7615947266606445),\n (1231, 0.7615947261901219),\n (1814, 0.7615947258820822),\n (3410, 0.7615947250624677),\n (4249, 0.7615947250145787),\n (2823, 0.7615947249860003),\n (2119, 0.7615947249761619),\n (2197, 0.7615947249061),\n (888, 0.7615947248671626),\n (1299, 0.7615947246554895),\n (596, 0.7615947238793015),\n (2752, 0.7615947237163325),\n (573, 0.7615947233803584),\n (3458, 0.7615947228809272),\n (3939, 0.7615947222694345),\n (2155, 0.7615947220685156),\n (1879, 0.7615947220367872),\n (2837, 0.7615947214826918),\n (31, 0.7615947212277733),\n (3050, 0.7615947209014512),\n (1185, 0.761594720644552),\n (986, 0.7615947200930766),\n (624, 0.7615947197110692),\n (2008, 0.7615947195351337),\n (3007, 0.7615947189268084),\n (1996, 0.7615947188750807),\n (353, 0.7615947186331536),\n (3533, 0.7615947185700456),\n (4684, 0.7615947183405112),\n (1662, 0.7615947182025911),\n (857, 0.7615947176745154),\n (1278, 0.7615947174131179),\n (2615, 0.7615947170073843),\n (928, 0.7615947167294824),\n (2207, 0.7615947164854362),\n (217, 0.7615947163777711),\n (1354, 0.7615947157370836),\n (1486, 0.7615947151668123),\n (3495, 0.7615947147145342),\n (1681, 0.7615947146855621),\n (3786, 0.761594714326949),\n (2728, 0.7615947135564115),\n (2577, 0.7615947133331162),\n (1745, 0.7615947132937388),\n (2623, 0.7615947130302896),\n (4211, 0.761594712390255),\n (3826, 0.7615947122036253),\n (3710, 0.7615947120053518),\n (2077, 0.7615947119103293),\n (3682, 0.7615947118347907),\n (4753, 0.7615947103124073),\n (2791, 0.7615947097389937),\n (989, 0.7615947093240593),\n (3604, 0.7615947090383292),\n (539, 0.7615947082774769),\n (1401, 0.7615947080718998),\n (2533, 0.7615947079683422),\n (2322, 0.7615947079126438),\n (1221, 0.7615947075029492),\n (4721, 0.7615947069873434),\n (762, 0.7615947063531792),\n (2842, 0.7615947058555694),\n (3380, 0.7615947058001552),\n (4350, 0.7615947052942706),\n (1476, 0.7615947052532592),\n (3009, 0.7615947042458594),\n (551, 0.7615947041562892),\n (1528, 0.7615947034808672),\n (879, 0.7615947032461758),\n (1467, 0.7615947030690112),\n (3812, 0.761594701871328),\n (3612, 0.7615947014583633),\n (3139, 0.7615947011265123),\n (2172, 0.7615947010469336),\n (3084, 0.761594699711873),\n (4053, 0.7615946993527819),\n (2349, 0.7615946993187181),\n (2782, 0.7615946991402427),\n (3592, 0.7615946984085737),\n (725, 0.7615946976515746),\n (1186, 0.7615946974412784),\n (4396, 0.7615946973610277),\n (861, 0.761594697357097),\n (3646, 0.7615946966718556),\n (1958, 0.7615946962958291),\n (3772, 0.7615946962306465),\n (2581, 0.7615946961203303),\n (3614, 0.7615946958718831),\n (2363, 0.7615946957495456),\n (2916, 0.7615946953989773),\n (4462, 0.7615946951520774),\n (77, 0.7615946944070294),\n (299, 0.7615946942258454),\n (4155, 0.7615946930578941),\n (2335, 0.7615946925808816),\n (4596, 0.7615946924591137),\n (1024, 0.7615946920994885),\n (3219, 0.761594691965241),\n (4544, 0.7615946915143638),\n (4560, 0.7615946912710556),\n (380, 0.7615946911778186),\n (1668, 0.761594689498404),\n (1205, 0.7615946892636741),\n (285, 0.7615946891310965),\n (2983, 0.7615946887994892),\n (565, 0.7615946883262052),\n (1065, 0.7615946879257458),\n (3567, 0.7615946874341462),\n (1868, 0.761594687376732),\n (2787, 0.7615946873391434),\n (3058, 0.7615946871982214),\n (737, 0.7615946869853198),\n (1132, 0.7615946859633861),\n (1059, 0.7615946847475178),\n (4748, 0.761594684502893),\n (1766, 0.7615946843366501),\n (27, 0.7615946841143312),\n (4473, 0.7615946837190523),\n (2678, 0.7615946836540678),\n (2401, 0.761594683555576),\n (64, 0.7615946833952991),\n (2722, 0.7615946823907102),\n (3217, 0.7615946821520194),\n (89, 0.7615946817327048),\n (4222, 0.7615946805840199),\n (4399, 0.7615946799216182),\n (2723, 0.76159467971409),\n (3921, 0.7615946796668389),\n (2658, 0.7615946793303433),\n (4549, 0.7615946787931003),\n (4195, 0.7615946787028556),\n (922, 0.7615946780645038),\n (117, 0.7615946776502314),\n (1994, 0.7615946775560373),\n (1812, 0.7615946774974253),\n (1820, 0.7615946755468316),\n (3352, 0.7615946749145512),\n (3551, 0.7615946741070452),\n (4192, 0.7615946737544816),\n (343, 0.7615946726043255),\n (1126, 0.7615946717057349),\n (2033, 0.7615946707463523),\n (1583, 0.7615946702091817),\n (2491, 0.7615946683074878),\n (4522, 0.7615946680643567),\n (3539, 0.761594666525093),\n (3206, 0.7615946663957875),\n (3051, 0.7615946648506929),\n (747, 0.7615946647687832),\n (1353, 0.7615946641612479),\n (4487, 0.761594663742196),\n (2691, 0.7615946635780517),\n (3480, 0.7615946628476267),\n (3725, 0.7615946623344261),\n (2362, 0.7615946622797197),\n (4465, 0.7615946622581039),\n (4604, 0.7615946619421912),\n (3082, 0.7615946614009302),\n (1779, 0.7615946609783812),\n (3543, 0.7615946606655308),\n (887, 0.761594660468689),\n (4029, 0.7615946594986494),\n (1089, 0.7615946593466507),\n (4697, 0.7615946590635694),\n (1739, 0.7615946586997258),\n (4246, 0.7615946585980149),\n (791, 0.7615946580304683),\n (2982, 0.7615946579075008),\n (1496, 0.7615946575090118),\n (2283, 0.7615946567633218),\n (578, 0.7615946565943118),\n (1004, 0.7615946564158578),\n (2420, 0.7615946562367554),\n (2304, 0.7615946559736229),\n (4346, 0.7615946555914423),\n (2337, 0.7615946554408611),\n (3538, 0.7615946552378895),\n (1760, 0.7615946543763195),\n (370, 0.7615946536875282),\n (2966, 0.7615946535085635),\n (3456, 0.7615946532178566),\n (3391, 0.7615946528737854),\n (317, 0.761594652599728),\n (105, 0.7615946524303034),\n (3507, 0.7615946522574801),\n (3687, 0.7615946514087417),\n (1002, 0.7615946510576612),\n (4489, 0.7615946510055186),\n (2196, 0.7615946509896638),\n (2713, 0.7615946506243049),\n (4012, 0.761594650558225),\n (3159, 0.761594650530116),\n (1744, 0.7615946504071593),\n (216, 0.7615946501330696),\n (3778, 0.7615946497896737),\n (4628, 0.7615946492347463),\n (2317, 0.7615946486027536),\n (4275, 0.7615946483735956),\n (3526, 0.7615946483662654),\n (3194, 0.7615946479537306),\n (936, 0.761594647395057),\n (3912, 0.7615946470537344),\n (1937, 0.7615946463701249),\n (2547, 0.7615946462169678),\n (4509, 0.7615946459119001),\n (1023, 0.7615946453834803),\n (1843, 0.7615946449488344),\n (4529, 0.7615946444993906),\n (1661, 0.7615946440979616),\n (2515, 0.7615946440141822),\n (1519, 0.7615946439396049),\n (1590, 0.761594643933644),\n (4417, 0.7615946439194738),\n (3019, 0.7615946438050956),\n ...]"
     },
     "metadata": {},
     "output_type": "execute_result",
     "execution_count": 21
    }
   ],
   "source": [
    "sorted(list(enumerate(sig[indices['Newlyweds']])),key=lambda x:x[1], reverse = True)"
   ]
  },
  {
   "cell_type": "code",
   "execution_count": 22,
   "metadata": {
    "pycharm": {
     "is_executing": false
    }
   },
   "outputs": [],
   "source": [
    "def give_rec(title, sig=sig):\n",
    "    idx=indices[title]\n",
    "    sig_scores = list(enumerate(sig[idx]))\n",
    "    sig_scores = sorted(sig_scores, key=lambda x: x[1], reverse=True)\n",
    "    sig_scores = sig_scores[1:11]\n",
    "    movie_indices = [i[0] for i in sig_scores]\n",
    "    return movies_cleaned_df['original_title'].iloc[movie_indices]"
   ]
  },
  {
   "cell_type": "code",
   "execution_count": 23,
   "metadata": {
    "pycharm": {
     "is_executing": false
    }
   },
   "outputs": [
    {
     "data": {
      "text/plain": "1155                  Spy Kids 3-D: Game Over\n1302    Spy Kids 2: The Island of Lost Dreams\n4044                               Go for It!\n1769      Spy Kids: All the Time in the World\n1825                Jimmy Neutron: Boy Genius\n3793                     The Velocity of Gary\n3359                              In Too Deep\n1576                               Bride Wars\n1631                                 Mr. 3000\n3016                                  Sparkle\nName: original_title, dtype: object"
     },
     "metadata": {},
     "output_type": "execute_result",
     "execution_count": 23
    }
   ],
   "source": [
    "#recommendation based on content\n",
    "give_rec('Spy Kids')"
   ]
  },
  {
   "cell_type": "code",
   "execution_count": 24,
   "metadata": {
    "pycharm": {
     "is_executing": false
    }
   },
   "outputs": [
    {
     "data": {
      "text/plain": "3604                       Apollo 18\n2130                    The American\n1341                Obitaemyy Ostrov\n634                       The Matrix\n529                 Tears of the Sun\n311     The Adventures of Pluto Nash\n151                          Beowulf\n847                         Semi-Pro\n2628             Blood and Chocolate\n1610                           Hanna\nName: original_title, dtype: object"
     },
     "metadata": {},
     "output_type": "execute_result",
     "execution_count": 24
    }
   ],
   "source": [
    "#examples\n",
    "give_rec('Avatar')"
   ]
  },
  {
   "cell_type": "code",
   "execution_count": 25,
   "metadata": {
    "pycharm": {
     "is_executing": false
    }
   },
   "outputs": [
    {
     "data": {
      "text/plain": "1343    Never Say Never Again\n4071    From Russia with Love\n11          Quantum of Solace\n3162              Thunderball\n29                    Skyfall\n1717               Safe Haven\n4339                   Dr. No\n277             Casino Royale\n3867            Human Traffic\n1880              Dance Flick\nName: original_title, dtype: object"
     },
     "metadata": {},
     "output_type": "execute_result",
     "execution_count": 25
    }
   ],
   "source": [
    "give_rec('Spectre')"
   ]
  },
  {
   "cell_type": "code",
   "execution_count": 25,
   "metadata": {
    "pycharm": {
     "is_executing": false
    }
   },
   "outputs": [],
   "source": []
  }
 ],
 "metadata": {
  "kernelspec": {
   "display_name": "Python 3",
   "language": "python",
   "name": "python3"
  },
  "language_info": {
   "codemirror_mode": {
    "name": "ipython",
    "version": 3
   },
   "file_extension": ".py",
   "mimetype": "text/x-python",
   "name": "python",
   "nbconvert_exporter": "python",
   "pygments_lexer": "ipython3",
   "version": "3.6.5"
  }
 },
 "nbformat": 4,
 "nbformat_minor": 4
}